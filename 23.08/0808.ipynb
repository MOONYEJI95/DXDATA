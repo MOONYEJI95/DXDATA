{
 "cells": [
  {
   "cell_type": "code",
   "execution_count": 2,
   "id": "13ec9c8c",
   "metadata": {},
   "outputs": [],
   "source": [
    "import numpy as np # numpy 모듈을 np라는 이름으로 가져오는 것"
   ]
  },
  {
   "cell_type": "code",
   "execution_count": 3,
   "id": "3c2a77f6",
   "metadata": {},
   "outputs": [
    {
     "name": "stdout",
     "output_type": "stream",
     "text": [
      "[1, 2, 3, 4, 5, 6, 7, 8, 9]\n",
      "[1 2 3 4 5 6 7 8 9]\n",
      "[[1 2 3]\n",
      " [4 5 6]\n",
      " [7 8 9]]\n"
     ]
    }
   ],
   "source": [
    "# 일차원 배열과 이차원 배열 생성\n",
    "li = list(range(1,10)) # 일차원 list 생성\n",
    "print(li)\n",
    "\n",
    "# list를 이용해서 ndarray 생성\n",
    "ar = np.array(li)\n",
    "print(ar)\n",
    "\n",
    "# 일차원 배열을 생성한 후 행과 열의 개수를 3 * 3 으로 변경\n",
    "matrix = np.array(li).reshape((3,3))\n",
    "print(matrix)"
   ]
  },
  {
   "cell_type": "code",
   "execution_count": 36,
   "id": "ed848f57",
   "metadata": {},
   "outputs": [
    {
     "name": "stdout",
     "output_type": "stream",
     "text": [
      "1\n",
      "1004\n",
      "1004\n",
      "[1004    2    3]\n",
      "[1004    2    3]\n"
     ]
    }
   ],
   "source": [
    "# 인덱싱 - 데이터 1개 가져오기\n",
    "data1 = ar[0] # data1 = 1\n",
    "print(data1)\n",
    "data2 = matrix[0,0]\n",
    "data3 = matrix[0][0]\n",
    "print(data2)\n",
    "print(data3)\n",
    "\n",
    "# 이차원 배열에서 행 하나 찾아오기\n",
    "row = matrix[0] # matrix[0][:], matrix[0,:]\n",
    "print(row)\n",
    "\n",
    "# 이차원 배열에서 열 하나 찾아오기\n",
    "column = matrix[:,0] \n",
    "print(column)\n",
    "\n"
   ]
  },
  {
   "cell_type": "code",
   "execution_count": null,
   "id": "e1b69625",
   "metadata": {},
   "outputs": [],
   "source": [
    "# 파이썬에서의 데이터 복사"
   ]
  },
  {
   "cell_type": "code",
   "execution_count": 9,
   "id": "9a679d54",
   "metadata": {},
   "outputs": [
    {
     "name": "stdout",
     "output_type": "stream",
     "text": [
      "10\n",
      "[100, 2, 3]\n"
     ]
    }
   ],
   "source": [
    "# 파이썬에서의 데이터 복사\n",
    "\n",
    "# 일반 인덱싱한 데이터는 파이썬의 기본 데이터와 동일하게 동작을 함\n",
    "# 파이썬의 scala data는 일반적으로 immutable\n",
    "# scala data는 다른 변수에 대입할 때 값을 복사해서 대입\n",
    "a = 10\n",
    "b = a\n",
    "b = 20\n",
    "print(a)\n",
    "\n",
    "# 파이썬의 vector data는 다른 변수에 대입할 때 참조를 복사해서 대입\n",
    "ax = [1,2,3]\n",
    "bx = ax  # bx 는 [1,2,3]의 참조\n",
    "bx[0] = 100\n",
    "print(ax)"
   ]
  },
  {
   "cell_type": "code",
   "execution_count": 16,
   "id": "b5191813",
   "metadata": {},
   "outputs": [
    {
     "name": "stdout",
     "output_type": "stream",
     "text": [
      "[1, 2, 3]\n",
      "[[100, 2, 3], [4, 5, 6]]\n",
      "[[100, 2, 3], [4, 5, 6]]\n",
      "[[100, 2, 3], [4, 5, 6]]\n"
     ]
    }
   ],
   "source": [
    "# 파이썬에서의 데이터 복제\n",
    "# copy 모듈의 copy(shallow copy - 얕은 복사)와 deepcopy(깊은 복사) 함수 이용\n",
    "# 얕은 복사는 한 번은 복제를 하지만 재귀적으로 수행하지 않음\n",
    "# 깊은 복사는 재귀적으로 복제를 수행\n",
    "\n",
    "import copy\n",
    "\n",
    "li = [1,2,3]\n",
    "\n",
    "c = li.copy() # 얕은 복사\n",
    "c[0] = 100 # 1차원 list의 경우는 원본에 영향을 주지 않음\n",
    "print(li)\n",
    "\n",
    "m = [[1,2,3],[4,5,6]]\n",
    "c = m.copy() # 얕은 복사는 이차원 배열의 경우는 원본에 영향을 줌\n",
    "c[0][0] = 100\n",
    "print(m)\n",
    "\n",
    "# copy.deepcopy는 재귀적으로 복제를 수행하기 때문에\n",
    "# 복사본의 데이터를 수정해도 원본에는 영향이 없음\n",
    "d = copy.deepcopy(m)\n",
    "print(d)\n",
    "d[0][0] = 10004\n",
    "print(m)"
   ]
  },
  {
   "cell_type": "code",
   "execution_count": 19,
   "id": "ecd4e099",
   "metadata": {},
   "outputs": [
    {
     "name": "stdout",
     "output_type": "stream",
     "text": [
      "1000\n",
      "[1 2 3 4 5 6 7 8 9]\n",
      "1000\n",
      "[[1004    2    3]\n",
      " [   4    5    6]\n",
      " [   7    8    9]]\n",
      "[1004    2    3]\n",
      "[[1004    2    3]\n",
      " [   4    5    6]\n",
      " [   7    8    9]]\n",
      "[[1004    2    3]\n",
      " [   4    5    6]\n",
      " [   7    8    9]]\n"
     ]
    }
   ],
   "source": [
    "# scala data를 복사하는 경우는 원본의 값을 복사해서 대입하기 때문에\n",
    "# 서로 간에 영향을 주지 않음\n",
    "\n",
    "data1 = 1000\n",
    "print(data1)\n",
    "print(ar)\n",
    "\n",
    "data2 = 1000\n",
    "print(data2)\n",
    "print(matrix)\n",
    "\n",
    "# row는 scala data(preemitive type)가 아니고 vector data\n",
    "# vector 데이터를 다른 곳에 대입하면 참조가 복사됨\n",
    "# 복사본을 수정하면 원본도 영향을 받음\n",
    "\n",
    "row[0] = 1004\n",
    "print(row)\n",
    "print(matrix)\n",
    "\n",
    "# 데이터 복제는 copy() 메서드\n",
    "clone = matrix.copy()\n",
    "clone[0][0] = 42 # 복사본의 데이터를 수정해도 원본에서는 그대로 1004\n",
    "print(matrix)"
   ]
  },
  {
   "cell_type": "code",
   "execution_count": 26,
   "id": "0ae5c507",
   "metadata": {},
   "outputs": [
    {
     "name": "stdout",
     "output_type": "stream",
     "text": [
      "[1, 2, 3]\n",
      "False\n",
      "[1, 2, 3, 4, 5]\n",
      "[1 2 3]\n",
      "False\n",
      "[100   2   3   4   5]\n"
     ]
    }
   ],
   "source": [
    "li = [1,2,3,4,5]\n",
    "c = li[0:3] # list의 슬라이싱 : 얕은 복사 수행\n",
    "# c 와 li는 앞 3개의 데이터가 동일하지만 다른 공간의 데이터\n",
    "print(c)\n",
    "print(c is li)\n",
    "c[0] = 100 # c의 값을 변경해도 li에는 영향이 없음\n",
    "print(li)\n",
    "\n",
    "ar = np.array(li)\n",
    "d = ar[0:3] # 배열에서 0 번째부터 2 번째 까지 데이터를 복사\n",
    "# 0번째부터 2번째이므로 이 데이터는 3개(vector data)\n",
    "# 참조가 복사\n",
    "print(d)\n",
    "print(d is ar)\n",
    "d[0] = 100 # d의 값을 수정하면 원본에 영향을 주게 됨\n",
    "print(ar)\n"
   ]
  },
  {
   "cell_type": "code",
   "execution_count": null,
   "id": "d31095f8",
   "metadata": {},
   "outputs": [],
   "source": [
    "# Fancy Indexing"
   ]
  },
  {
   "cell_type": "code",
   "execution_count": 28,
   "id": "92ccf34c",
   "metadata": {},
   "outputs": [
    {
     "name": "stdout",
     "output_type": "stream",
     "text": [
      "[100 300]\n",
      "[100 200 300 400 500]\n"
     ]
    }
   ],
   "source": [
    "# 인덱싱을 할 때 list를 이용하는 것\n",
    "ar = np.array([100,200,300,400,500])\n",
    "f = ar[[0,2]]\n",
    "print(f)\n",
    "f[0] = 1004\n",
    "print(ar)"
   ]
  },
  {
   "cell_type": "code",
   "execution_count": 33,
   "id": "fc3de7f4",
   "metadata": {},
   "outputs": [
    {
     "name": "stdout",
     "output_type": "stream",
     "text": [
      "[1 2 5 7]\n",
      "[1 6 7]\n",
      "[6 7]\n"
     ]
    }
   ],
   "source": [
    "# 불리언 색인 : array의 인덱스에 bool 배열을 대입해서 True인 데이터만 골라내기\n",
    "# 조건에 맞는 데이터만 추출할 때 사용\n",
    "\n",
    "ar = np.array([1,2,3,4,5,6,7])\n",
    "result = ar[[True, True, False, False, True, False, True]]\n",
    "print(result)\n",
    "\n",
    "br = np.array([100,20,30,40,50,80,90])\n",
    "result = ar[br >= 70]\n",
    "print(result)\n",
    "\n",
    "br = np.array([100,20,30,40,50,80,90])\n",
    "result = ar[(br >= 70) & (br <=90)]\n",
    "print(result)\n"
   ]
  },
  {
   "cell_type": "code",
   "execution_count": null,
   "id": "69c63699",
   "metadata": {},
   "outputs": [],
   "source": []
  },
  {
   "cell_type": "markdown",
   "id": "37cc03ba",
   "metadata": {},
   "source": [
    "# ndarray 의 연산"
   ]
  },
  {
   "cell_type": "code",
   "execution_count": 38,
   "id": "cbd973f2",
   "metadata": {},
   "outputs": [
    {
     "name": "stdout",
     "output_type": "stream",
     "text": [
      "[ 2  4  6  8 10]\n",
      "[2 3 4 5 6]\n"
     ]
    }
   ],
   "source": [
    "ar = np.array([1,2,3,4,5])\n",
    "br = np.array([1,2,3,4,5])\n",
    "cr = np.array([1,2,3,4])\n",
    "\n",
    "print(ar + br)\n",
    "# print(ar + cr) 에러 \n",
    "print(ar + 1)\n"
   ]
  },
  {
   "cell_type": "code",
   "execution_count": 47,
   "id": "3d2a4575",
   "metadata": {},
   "outputs": [
    {
     "name": "stdout",
     "output_type": "stream",
     "text": [
      "[11 22 33 44 55]\n",
      "[5 6 7 8 9]\n",
      "[[ 2  4  6  8 10]\n",
      " [ 7  9 11 13 15]]\n",
      "[[ 2  4  6  8 10]\n",
      " [ 7  9 11 13 15]]\n"
     ]
    }
   ],
   "source": [
    "ar = np.array([1,2,3,4,5])\n",
    "br = np.array([10,20,30,40,50])\n",
    "\n",
    "result = ar + br\n",
    "print(result)\n",
    "\n",
    "result = ar + 4 # 2개의 차원이 다른 경우로, 이 경우 적은 차원의 데이터를 큰 차원으로 수정\n",
    "# ar + [4,4,4,4]\n",
    "print(result)\n",
    "\n",
    "k = range(1,11)\n",
    "# print(ar + np.array(k))는 에러\n",
    "# 1차원 배열을 2행 5열로 수정해서 연산을 수행\n",
    "cr = np.array(k).reshape(2,5)\n",
    "print(ar+cr)\n"
   ]
  },
  {
   "cell_type": "code",
   "execution_count": null,
   "id": "3fa6f377",
   "metadata": {},
   "outputs": [],
   "source": []
  },
  {
   "cell_type": "code",
   "execution_count": 49,
   "id": "64ba14b8",
   "metadata": {},
   "outputs": [
    {
     "name": "stdout",
     "output_type": "stream",
     "text": [
      "[False False  True False  True]\n",
      "[ True  True  True  True  True]\n",
      "[False False  True False  True]\n"
     ]
    }
   ],
   "source": [
    "# 논리 연산\n",
    "ar = np.array([1,2,3,4,5])\n",
    "br = np.array([10,20,False,40,0])\n",
    "\n",
    "print(ar > br)\n",
    "print(np.not_equal(ar,br))\n",
    "print(np.logical_xor(ar,br)) # and, or, xor 는 bool(True, False)로 변경해서 판정"
   ]
  },
  {
   "cell_type": "code",
   "execution_count": 53,
   "id": "7dc8f7ee",
   "metadata": {},
   "outputs": [
    {
     "name": "stdout",
     "output_type": "stream",
     "text": [
      "[11 22  3 44  5]\n",
      "True\n",
      "False\n",
      "False\n"
     ]
    },
    {
     "name": "stderr",
     "output_type": "stream",
     "text": [
      "C:\\Users\\USER\\AppData\\Local\\Temp\\ipykernel_8108\\623138640.py:8: DeprecationWarning: elementwise comparison failed; this will raise an error in the future.\n",
      "  print([11,22] in ar)\n",
      "C:\\Users\\USER\\AppData\\Local\\Temp\\ipykernel_8108\\623138640.py:9: DeprecationWarning: elementwise comparison failed; this will raise an error in the future.\n",
      "  print([1,100] in ar)\n"
     ]
    }
   ],
   "source": [
    "ar = np.array([1,2,3,4,5])\n",
    "br = np.array([10,20,False,40,0])\n",
    "\n",
    "ar += br # ar = ar + br\n",
    "print(ar)\n",
    "\n",
    "print(11 in ar)\n",
    "print([11,22] in ar)\n",
    "print([1,100] in ar)"
   ]
  },
  {
   "cell_type": "code",
   "execution_count": 62,
   "id": "c04a1b19",
   "metadata": {},
   "outputs": [
    {
     "name": "stdout",
     "output_type": "stream",
     "text": [
      "[101 102 103 104 105]\n",
      "[101 102 103 104 105]\n"
     ]
    }
   ],
   "source": [
    "# 벡터화된 함수 적용\n",
    "# 매개변수에 100을 더해서 리턴하는 함수\n",
    "\n",
    "def f(i) :\n",
    "    return i + 100\n",
    "\n",
    "# 벡터화된 함수로 수정\n",
    "vector_f = np.vectorize(f)\n",
    "\n",
    "# 배열에 벡터화된 함수 적용\n",
    "print(vector_f(ar))\n",
    "\n",
    "# 람다 함수(파이썬의 한 줄 짜리 이름없는 함수)를 이용해서 동일한 작업 수행\n",
    "print(np.vectorize(lambda i : i + 100)(ar))\n",
    "\n",
    "\n"
   ]
  },
  {
   "cell_type": "code",
   "execution_count": 66,
   "id": "c6f4ed02",
   "metadata": {},
   "outputs": [
    {
     "name": "stdout",
     "output_type": "stream",
     "text": [
      "[[ 1  2]\n",
      " [ 3  4]\n",
      " [ 5  6]\n",
      " [ 7  8]\n",
      " [ 9 10]]\n",
      "[[ 1  2  3  4  5]\n",
      " [ 6  7  8  9 10]]\n",
      "[[ 1  3  5  7  9]\n",
      " [ 2  4  6  8 10]]\n",
      "[[ 1  3  5  7  9]\n",
      " [ 2  4  6  8 10]]\n"
     ]
    }
   ],
   "source": [
    "matrix = np.array(range(1,11)).reshape((5,2))\n",
    "print(matrix)\n",
    "print(matrix.reshape((2,5))) # 행과 열의 수를 변경해서 전치\n",
    "print(matrix.T) # 행과 열을 변경\n",
    "print(np.transpose(matrix)) # 행과 열을 변경"
   ]
  },
  {
   "cell_type": "code",
   "execution_count": 86,
   "id": "c503627e",
   "metadata": {},
   "outputs": [
    {
     "name": "stdout",
     "output_type": "stream",
     "text": [
      "[ 1  2  3  4  5  6  7  8  9 10 11 12 13 14 15 16 17 18 19 20 21 22 23 24\n",
      " 25 26 27 28 29 30 31 32 33 34 35 36 37 38 39 40 41 42 43 44 45 46 47 48]\n",
      "[28 41 27 44 25 38 13 20  5 26  9  4  7 40 34 14 18 46 16 10 17 30 33 47\n",
      "  1 32 31  6 12 35  2 45 22  3 37 36 24 42 11 23 19 48 21  8 43 15 29 39]\n",
      "[28 41 27 44 25 38 13 20  5 26  9  4  7 40 34 14 18 46 16 10 17 30 33 47\n",
      "  1 32 31  6 12 35  2 45 22  3 37 36 24 42 11 23 19 48 21  8 43 15 29 39]\n"
     ]
    }
   ],
   "source": [
    "np.random.seed(seed=42) # seed 고정\n",
    "\n",
    "cards = np.array(range(1,49)) # 1부터 48까지의 일차원 배열\n",
    "print(cards)\n",
    "\n",
    "# 배열을 섞어서 리턴\n",
    "np.random.shuffle(cards)\n",
    "print(cards)\n",
    "\n",
    "result = np.random.permutation(cards)\n",
    "print(cards)"
   ]
  },
  {
   "cell_type": "code",
   "execution_count": 98,
   "id": "f65a7b9b",
   "metadata": {},
   "outputs": [
    {
     "name": "stdout",
     "output_type": "stream",
     "text": [
      "[[-0.03582604  1.56464366 -2.6197451   0.8219025   0.08704707]\n",
      " [-0.29900735  0.09176078 -1.98756891 -0.21967189  0.35711257]\n",
      " [ 1.47789404 -0.51827022 -0.8084936  -0.50175704  0.91540212]\n",
      " [ 0.32875111 -0.5297602   0.51326743  0.09707755  0.96864499]]\n",
      "-0.2965965430501677\n",
      "1.0002805249964482\n",
      "1.0262661646587288\n",
      "0.590426200928823\n",
      "[ 1.47181176  0.60837401 -4.90254019  0.19755112  2.32820675]\n",
      "[-0.18197791 -2.0573748   0.5647753   1.37798088]\n",
      "[[-0.18197791]\n",
      " [-2.0573748 ]\n",
      " [ 0.5647753 ]\n",
      " [ 1.37798088]]\n",
      "[[ 1.47181176  0.60837401 -4.90254019  0.19755112  2.32820675]]\n",
      "[1 4 0 4]\n",
      "[ 0.00520465  0.03941923 -2.16073512  0.00879442  0.02756359]\n"
     ]
    }
   ],
   "source": [
    "# 기본 통계 함수\n",
    "matrix = np.random.randn(20).reshape((4,5))\n",
    "print(matrix)\n",
    "print(matrix.sum())\n",
    "print(matrix.std()) # 표준 편차\n",
    "print(matrix.std(ddof=1)) # 표준 편차 - 자유도 1 적용\n",
    "print(np.percentile(matrix,75)) # 75%에 해당하는 값\n",
    "\n",
    "# 행단위와 열단위 합계\n",
    "print(matrix.sum(axis=0))\n",
    "print(matrix.sum(axis=1))\n",
    "print(matrix.sum(axis=1, keepdims=True)) # 행 단위 - matrix와 동일한 차원으로 리턴\n",
    "print(matrix.sum(axis=0, keepdims=True)) # 열 단위 - matrix와 동일한 차원으로 리턴\n",
    "\n",
    "\n",
    "print(matrix.argmax(axis=1))\n",
    "print(matrix.prod(axis=0))\n"
   ]
  },
  {
   "cell_type": "code",
   "execution_count": 100,
   "id": "a9b60705",
   "metadata": {},
   "outputs": [
    {
     "name": "stdout",
     "output_type": "stream",
     "text": [
      "Help on function sort in module numpy:\n",
      "\n",
      "sort(a, axis=-1, kind=None, order=None)\n",
      "    Return a sorted copy of an array.\n",
      "    \n",
      "    Parameters\n",
      "    ----------\n",
      "    a : array_like\n",
      "        Array to be sorted.\n",
      "    axis : int or None, optional\n",
      "        Axis along which to sort. If None, the array is flattened before\n",
      "        sorting. The default is -1, which sorts along the last axis.\n",
      "    kind : {'quicksort', 'mergesort', 'heapsort', 'stable'}, optional\n",
      "        Sorting algorithm. The default is 'quicksort'. Note that both 'stable'\n",
      "        and 'mergesort' use timsort or radix sort under the covers and, in general,\n",
      "        the actual implementation will vary with data type. The 'mergesort' option\n",
      "        is retained for backwards compatibility.\n",
      "    \n",
      "        .. versionchanged:: 1.15.0.\n",
      "           The 'stable' option was added.\n",
      "    \n",
      "    order : str or list of str, optional\n",
      "        When `a` is an array with fields defined, this argument specifies\n",
      "        which fields to compare first, second, etc.  A single field can\n",
      "        be specified as a string, and not all fields need be specified,\n",
      "        but unspecified fields will still be used, in the order in which\n",
      "        they come up in the dtype, to break ties.\n",
      "    \n",
      "    Returns\n",
      "    -------\n",
      "    sorted_array : ndarray\n",
      "        Array of the same type and shape as `a`.\n",
      "    \n",
      "    See Also\n",
      "    --------\n",
      "    ndarray.sort : Method to sort an array in-place.\n",
      "    argsort : Indirect sort.\n",
      "    lexsort : Indirect stable sort on multiple keys.\n",
      "    searchsorted : Find elements in a sorted array.\n",
      "    partition : Partial sort.\n",
      "    \n",
      "    Notes\n",
      "    -----\n",
      "    The various sorting algorithms are characterized by their average speed,\n",
      "    worst case performance, work space size, and whether they are stable. A\n",
      "    stable sort keeps items with the same key in the same relative\n",
      "    order. The four algorithms implemented in NumPy have the following\n",
      "    properties:\n",
      "    \n",
      "    =========== ======= ============= ============ ========\n",
      "       kind      speed   worst case    work space   stable\n",
      "    =========== ======= ============= ============ ========\n",
      "    'quicksort'    1     O(n^2)            0          no\n",
      "    'heapsort'     3     O(n*log(n))       0          no\n",
      "    'mergesort'    2     O(n*log(n))      ~n/2        yes\n",
      "    'timsort'      2     O(n*log(n))      ~n/2        yes\n",
      "    =========== ======= ============= ============ ========\n",
      "    \n",
      "    .. note:: The datatype determines which of 'mergesort' or 'timsort'\n",
      "       is actually used, even if 'mergesort' is specified. User selection\n",
      "       at a finer scale is not currently available.\n",
      "    \n",
      "    All the sort algorithms make temporary copies of the data when\n",
      "    sorting along any but the last axis.  Consequently, sorting along\n",
      "    the last axis is faster and uses less space than sorting along\n",
      "    any other axis.\n",
      "    \n",
      "    The sort order for complex numbers is lexicographic. If both the real\n",
      "    and imaginary parts are non-nan then the order is determined by the\n",
      "    real parts except when they are equal, in which case the order is\n",
      "    determined by the imaginary parts.\n",
      "    \n",
      "    Previous to numpy 1.4.0 sorting real and complex arrays containing nan\n",
      "    values led to undefined behaviour. In numpy versions >= 1.4.0 nan\n",
      "    values are sorted to the end. The extended sort order is:\n",
      "    \n",
      "      * Real: [R, nan]\n",
      "      * Complex: [R + Rj, R + nanj, nan + Rj, nan + nanj]\n",
      "    \n",
      "    where R is a non-nan real value. Complex values with the same nan\n",
      "    placements are sorted according to the non-nan part if it exists.\n",
      "    Non-nan values are sorted as before.\n",
      "    \n",
      "    .. versionadded:: 1.12.0\n",
      "    \n",
      "    quicksort has been changed to `introsort <https://en.wikipedia.org/wiki/Introsort>`_.\n",
      "    When sorting does not make enough progress it switches to\n",
      "    `heapsort <https://en.wikipedia.org/wiki/Heapsort>`_.\n",
      "    This implementation makes quicksort O(n*log(n)) in the worst case.\n",
      "    \n",
      "    'stable' automatically chooses the best stable sorting algorithm\n",
      "    for the data type being sorted.\n",
      "    It, along with 'mergesort' is currently mapped to\n",
      "    `timsort <https://en.wikipedia.org/wiki/Timsort>`_\n",
      "    or `radix sort <https://en.wikipedia.org/wiki/Radix_sort>`_\n",
      "    depending on the data type.\n",
      "    API forward compatibility currently limits the\n",
      "    ability to select the implementation and it is hardwired for the different\n",
      "    data types.\n",
      "    \n",
      "    .. versionadded:: 1.17.0\n",
      "    \n",
      "    Timsort is added for better performance on already or nearly\n",
      "    sorted data. On random data timsort is almost identical to\n",
      "    mergesort. It is now used for stable sort while quicksort is still the\n",
      "    default sort if none is chosen. For timsort details, refer to\n",
      "    `CPython listsort.txt <https://github.com/python/cpython/blob/3.7/Objects/listsort.txt>`_.\n",
      "    'mergesort' and 'stable' are mapped to radix sort for integer data types. Radix sort is an\n",
      "    O(n) sort instead of O(n log n).\n",
      "    \n",
      "    .. versionchanged:: 1.18.0\n",
      "    \n",
      "    NaT now sorts to the end of arrays for consistency with NaN.\n",
      "    \n",
      "    Examples\n",
      "    --------\n",
      "    >>> a = np.array([[1,4],[3,1]])\n",
      "    >>> np.sort(a)                # sort along the last axis\n",
      "    array([[1, 4],\n",
      "           [1, 3]])\n",
      "    >>> np.sort(a, axis=None)     # sort the flattened array\n",
      "    array([1, 1, 3, 4])\n",
      "    >>> np.sort(a, axis=0)        # sort along the first axis\n",
      "    array([[1, 1],\n",
      "           [3, 4]])\n",
      "    \n",
      "    Use the `order` keyword to specify a field to use when sorting a\n",
      "    structured array:\n",
      "    \n",
      "    >>> dtype = [('name', 'S10'), ('height', float), ('age', int)]\n",
      "    >>> values = [('Arthur', 1.8, 41), ('Lancelot', 1.9, 38),\n",
      "    ...           ('Galahad', 1.7, 38)]\n",
      "    >>> a = np.array(values, dtype=dtype)       # create a structured array\n",
      "    >>> np.sort(a, order='height')                        # doctest: +SKIP\n",
      "    array([('Galahad', 1.7, 38), ('Arthur', 1.8, 41),\n",
      "           ('Lancelot', 1.8999999999999999, 38)],\n",
      "          dtype=[('name', '|S10'), ('height', '<f8'), ('age', '<i4')])\n",
      "    \n",
      "    Sort by age, then height if ages are equal:\n",
      "    \n",
      "    >>> np.sort(a, order=['age', 'height'])               # doctest: +SKIP\n",
      "    array([('Galahad', 1.7, 38), ('Lancelot', 1.8999999999999999, 38),\n",
      "           ('Arthur', 1.8, 41)],\n",
      "          dtype=[('name', '|S10'), ('height', '<f8'), ('age', '<i4')])\n",
      "\n"
     ]
    }
   ],
   "source": [
    "help(np.sort)"
   ]
  },
  {
   "cell_type": "code",
   "execution_count": 103,
   "id": "925a9780",
   "metadata": {},
   "outputs": [
    {
     "name": "stdout",
     "output_type": "stream",
     "text": [
      "[10 20 25 27 30]\n",
      "[20 30 10 25 27]\n",
      "[[10 60 80]\n",
      " [20 30 50]\n",
      " [15 29 32]]\n"
     ]
    }
   ],
   "source": [
    "# 일차원 배열의 정렬\n",
    "ar = np.array([20,30,10,25,27])\n",
    "result = np.sort(ar)\n",
    "print(result)\n",
    "print(ar)\n",
    "\n",
    "# 2차원 배열에서 행에서의 정렬\n",
    "br = np.array([[10,60,80],[20,50,30],[15,32,29]])\n",
    "result = np.sort(br,axis=1)\n",
    "print(result)\n",
    "\n",
    "\n",
    "\n"
   ]
  },
  {
   "cell_type": "code",
   "execution_count": 122,
   "id": "4320b642",
   "metadata": {},
   "outputs": [
    {
     "name": "stdout",
     "output_type": "stream",
     "text": [
      "[[ 1  2  3  4  5]\n",
      " [ 6  7  8  9 10]\n",
      " [11 12 13 14 15]\n",
      " [16 17 18 19 20]\n",
      " [21 22 23 24 25]\n",
      " [26 27 28 29 30]\n",
      " [31 32 33 34 35]\n",
      " [36 37 38 39 40]\n",
      " [41 42 43 44 45]\n",
      " [46 47 48 49 50]]\n",
      "(10, 5)\n",
      "<class 'tuple'>\n",
      "10\n",
      "[[ 1  2  3  4  5]\n",
      " [ 6  7  8  9 10]\n",
      " [11 12 13 14 15]\n",
      " [16 17 18 19 20]\n",
      " [21 22 23 24 25]\n",
      " [26 27 28 29 30]]\n",
      "[[31 32 33 34 35]\n",
      " [36 37 38 39 40]\n",
      " [41 42 43 44 45]\n",
      " [46 47 48 49 50]]\n"
     ]
    }
   ],
   "source": [
    "x = range(1,51)\n",
    "# 위의 데이터를 가지고 10행 5열 짜리 이차원 배열 생성\n",
    "# 데이터를 가지고 7:3 분할 : numpy.split\n",
    "ar = np.array(x)\n",
    "matrix = ar.reshape((10,5))\n",
    "print(matrix)\n",
    "\n",
    "# 행과 열의 개수 가져오기\n",
    "print(matrix.shape)\n",
    "print(type(matrix.shape))\n",
    "\n",
    "cnt = matrix.shape[0]\n",
    "print(cnt) # 행의 개수 출력(10)\n",
    "\n",
    "#help(np.split)\n",
    "\n",
    "# 여기에 permutation을 적용하면 샘플링 해주는 함수가 됨\n",
    "# 행의 개수 * 0.7 하면 7:3 적용 가능(int처리 꼭 해줘야 함)\n",
    "ar_s = np.split(matrix,[int(cnt * 0.7),])\n",
    "print(ar_s[0])\n",
    "print(ar_s[1])\n"
   ]
  },
  {
   "cell_type": "code",
   "execution_count": 123,
   "id": "094859d6",
   "metadata": {},
   "outputs": [],
   "source": [
    "import numpy as np\n",
    "import pandas as pd"
   ]
  },
  {
   "cell_type": "code",
   "execution_count": 127,
   "id": "d81cac65",
   "metadata": {},
   "outputs": [
    {
     "name": "stdout",
     "output_type": "stream",
     "text": [
      "0    10\n",
      "1    20\n",
      "2    30\n",
      "3    40\n",
      "dtype: int64\n",
      "one      10\n",
      "two      20\n",
      "three    30\n",
      "four     40\n",
      "dtype: int64\n",
      "태연       소녀시대\n",
      "수지     Miss A\n",
      "카리나     aespa\n",
      "설현        AOA\n",
      "dtype: object\n"
     ]
    }
   ],
   "source": [
    "series1 = pd.Series([10,20,30,40]) # 인덱스 없이 0,1,2,3 으로 접근하도록 생성\n",
    "# 인덱스와 함께 생성\n",
    "series2 = pd.Series([10,20,30,40], index = [\"one\", \"two\", \"three\", \"four\"])\n",
    "print(series1)\n",
    "print(series2)\n",
    "# dict를 이용해서 key는 index가 value는 value가 되도록 설정\n",
    "series3 = pd.Series({\"태연\":\"소녀시대\", \"수지\":\"Miss A\", \"카리나\":\"aespa\", \"설현\" : \"AOA\"})\n",
    "print(series3)"
   ]
  },
  {
   "cell_type": "code",
   "execution_count": 129,
   "id": "9e784c6f",
   "metadata": {},
   "outputs": [
    {
     "name": "stdout",
     "output_type": "stream",
     "text": [
      "소녀시대\n",
      "소녀시대\n",
      "태연      소녀시대\n",
      "수지    Miss A\n",
      "dtype: object\n",
      "태연       소녀시대\n",
      "수지     Miss A\n",
      "카리나     aespa\n",
      "dtype: object\n"
     ]
    }
   ],
   "source": [
    "# 인덱싱\n",
    "print(series3[0]) # 일련 번호를 가지고 접근\n",
    "print(series3[\"태연\"]) # 인덱스를 가지고 접근\n",
    "print(series3[0:2]) # 일련 번호는 종료 위치가 포함되지 않음\n",
    "print(series3[\"태연\":\"카리나\"]) #인덱스는 종료 위치가 포함됨"
   ]
  },
  {
   "cell_type": "code",
   "execution_count": 132,
   "id": "7329d0dd",
   "metadata": {},
   "outputs": [
    {
     "name": "stdout",
     "output_type": "stream",
     "text": [
      "[10 20 30 40]\n",
      "0    110\n",
      "1    120\n",
      "2    130\n",
      "3    140\n",
      "dtype: int64\n",
      "100\n"
     ]
    }
   ],
   "source": [
    "print(series1.values) # 값들만 추출\n",
    "print(series1 + 100 ) # 연산은 numpy의 ndarray와 동일하게 수행되는데 values 속성의 멤버를 가지고 연산\n",
    "print(np.sum(series1))\n"
   ]
  },
  {
   "cell_type": "code",
   "execution_count": 137,
   "id": "1472bf79",
   "metadata": {},
   "outputs": [
    {
     "name": "stdout",
     "output_type": "stream",
     "text": [
      "태연     81\n",
      "수지     99\n",
      "카리나    88\n",
      "설현     73\n",
      "dtype: int64\n",
      "태연      NaN\n",
      "카리나    77.0\n",
      "수지     98.0\n",
      "민지     59.0\n",
      "dtype: float64\n",
      "민지       NaN\n",
      "설현       NaN\n",
      "수지     197.0\n",
      "카리나    165.0\n",
      "태연       NaN\n",
      "dtype: float64\n"
     ]
    }
   ],
   "source": [
    "s1 = pd.Series({\"태연\":81, \"수지\":99,\"카리나\":88,\"설현\":73})\n",
    "s2 = pd.Series({\"태연\":np.nan,\"카리나\":77, \"수지\":98,\"민지\":59})\n",
    "print(s1)\n",
    "print(s2)\n",
    "print(s1 + s2)"
   ]
  },
  {
   "cell_type": "code",
   "execution_count": null,
   "id": "d98f1457",
   "metadata": {},
   "outputs": [],
   "source": []
  },
  {
   "cell_type": "code",
   "execution_count": 138,
   "id": "d29058bb",
   "metadata": {},
   "outputs": [
    {
     "name": "stdout",
     "output_type": "stream",
     "text": [
      "   code name  price\n",
      "0     1   수박  30000\n",
      "1     2   키위   2500\n",
      "2     3   자두   1500\n",
      "3     4   참외   2000\n"
     ]
    }
   ],
   "source": [
    "# DataFrame을 만들기 위한 디셔너리 생성\n",
    "items = {\n",
    "    'code':[1,2,3,4],\n",
    "    'name':['수박','키위','자두','참외'],\n",
    "    'price':[30000,2500,1500,2000]\n",
    "}\n",
    "\n",
    "df = pd.DataFrame(items)\n",
    "print(df)\n",
    "\n"
   ]
  },
  {
   "cell_type": "code",
   "execution_count": 143,
   "id": "3732e701",
   "metadata": {},
   "outputs": [
    {
     "name": "stdout",
     "output_type": "stream",
     "text": [
      "RangeIndex(start=1, stop=5, step=1)\n",
      "Index(['코드', '이름', '가격'], dtype='object')\n",
      "RangeIndex(start=1, stop=5, step=1)\n",
      "Index(['코드', '이름', '가격'], dtype='object')\n",
      "   코드  이름     가격\n",
      "1   1  수박  30000\n",
      "2   2  키위   2500\n",
      "3   3  자두   1500\n",
      "4   4  참외   2000\n"
     ]
    }
   ],
   "source": [
    "print(df.index)\n",
    "print(df.columns)\n",
    "df.index = range(1,5)\n",
    "print(df.index)\n",
    "df.columns = ['코드','이름','가격']\n",
    "print(df.columns)\n",
    "print(df)\n",
    "\n"
   ]
  },
  {
   "cell_type": "code",
   "execution_count": 150,
   "id": "3de751cc",
   "metadata": {},
   "outputs": [
    {
     "name": "stdout",
     "output_type": "stream",
     "text": [
      "   코드  이름     가격\n",
      "1   1  수박  30000\n",
      "2   2  키위   2500\n",
      "   코드  이름    가격\n",
      "3   3  자두  1500\n",
      "4   4  참외  2000\n",
      "<class 'numpy.ndarray'>\n",
      "<class 'pandas.core.frame.DataFrame'>\n",
      "RangeIndex: 4 entries, 1 to 4\n",
      "Data columns (total 3 columns):\n",
      " #   Column  Non-Null Count  Dtype \n",
      "---  ------  --------------  ----- \n",
      " 0   코드      4 non-null      int64 \n",
      " 1   이름      4 non-null      object\n",
      " 2   가격      4 non-null      int64 \n",
      "dtypes: int64(2), object(1)\n",
      "memory usage: 228.0+ bytes\n"
     ]
    }
   ],
   "source": [
    "# head나 tail 함수는 데이터가 제대로 불러져 왔는지 확인할 때 이용\n",
    "\n",
    "print(df.head(2))\n",
    "print(df.tail(2))\n",
    "\n",
    "# 이 데이터를 머신러닝을 하고자 하면 머신러닝은 numpy의 ndarray 로만 가능\n",
    "print(type(df.values)) # values : 데이터를 2차원 배열(ndarray)로 리턴\n",
    "# 데이터 분석을 하기 전에 데이터를 가져왔으면 데이터에 대한 정보를 확인\n",
    "df.info() # info : 데이터 프레임에 대한 정보 확인\n"
   ]
  },
  {
   "cell_type": "code",
   "execution_count": null,
   "id": "061c7337",
   "metadata": {},
   "outputs": [],
   "source": []
  },
  {
   "cell_type": "code",
   "execution_count": null,
   "id": "57079f54",
   "metadata": {},
   "outputs": [],
   "source": []
  },
  {
   "cell_type": "code",
   "execution_count": 152,
   "id": "0c1a41d7",
   "metadata": {},
   "outputs": [
    {
     "name": "stdout",
     "output_type": "stream",
     "text": [
      "C:\\Users\\USER\n"
     ]
    }
   ],
   "source": [
    "import numpy as np\n",
    "import pandas as pd\n",
    "\n",
    "# 현재 작업 디렉토리 확인\n",
    "import os\n",
    "print(os.getcwd())\n",
    "\n"
   ]
  },
  {
   "cell_type": "code",
   "execution_count": 161,
   "id": "f75f1552",
   "metadata": {},
   "outputs": [
    {
     "name": "stdout",
     "output_type": "stream",
     "text": [
      "      manufacture            name  price\n",
      "code                                    \n",
      "1           korea           apple   1500\n",
      "2           korea      watermelon  15000\n",
      "3           korea  oriental melon   1000\n",
      "4     philippines          banana    500\n",
      "5           korea           lemon   1500\n",
      "6           korea           mango    700\n"
     ]
    }
   ],
   "source": [
    "items = pd.read_csv('C:/Users/USER/data/data/item.csv', index_col='code')\n",
    "print(items)"
   ]
  },
  {
   "cell_type": "code",
   "execution_count": 163,
   "id": "9a5295d8",
   "metadata": {},
   "outputs": [
    {
     "name": "stdout",
     "output_type": "stream",
     "text": [
      "      제품명  개수     가격\n",
      "0   apple  10   1500\n",
      "1  banana   5  15000\n",
      "2   melon   7   1000\n",
      "3    kiwi  20    500\n",
      "4   mango  30   1500\n",
      "5  orange   4    700\n"
     ]
    }
   ],
   "source": [
    "# good.csv는 첫 번째 행도 일반 데이터 이므로\n",
    "# 첫 번째 행이 헤더가 아니라고 설정하고 names를 이용해서 헤더 이름을 설정\n",
    "goods = pd.read_csv('C:/Users/USER/data/data/good.csv', header=None, names=['제품명','개수','가격'])\n",
    "print(goods)"
   ]
  },
  {
   "cell_type": "code",
   "execution_count": 168,
   "id": "4311f233",
   "metadata": {},
   "outputs": [
    {
     "name": "stdout",
     "output_type": "stream",
     "text": [
      "<class 'pandas.core.frame.DataFrame'>\n",
      "        0   1      2\n",
      "0   apple  10   1500\n",
      "1  banana   5  15000\n",
      "2   melon   7   1000\n",
      "\n",
      "<class 'pandas.core.frame.DataFrame'>\n",
      "        0   1     2\n",
      "3    kiwi  20   500\n",
      "4   mango  30  1500\n",
      "5  orange   4   700\n",
      "\n"
     ]
    }
   ],
   "source": [
    "# 3개씩 읽어오도록 설정\n",
    "goods = pd.read_csv('C:/Users/USER/data/data/good.csv', header=None, chunksize=3)\n",
    "for piece in goods:\n",
    "    print(type(piece))\n",
    "    print(piece)\n",
    "    print()"
   ]
  },
  {
   "cell_type": "code",
   "execution_count": 172,
   "id": "02f86c56",
   "metadata": {
    "scrolled": true
   },
   "outputs": [
    {
     "name": "stdout",
     "output_type": "stream",
     "text": [
      "          country continent  year  lifeExp       pop   gdpPercap\n",
      "0     Afghanistan      Asia  1952   28.801   8425333  779.445314\n",
      "1     Afghanistan      Asia  1957   30.332   9240934  820.853030\n",
      "2     Afghanistan      Asia  1962   31.997  10267083  853.100710\n",
      "3     Afghanistan      Asia  1967   34.020  11537966  836.197138\n",
      "4     Afghanistan      Asia  1972   36.088  13079460  739.981106\n",
      "...           ...       ...   ...      ...       ...         ...\n",
      "1699     Zimbabwe    Africa  1987   62.351   9216418  706.157306\n",
      "1700     Zimbabwe    Africa  1992   60.377  10704340  693.420786\n",
      "1701     Zimbabwe    Africa  1997   46.809  11404948  792.449960\n",
      "1702     Zimbabwe    Africa  2002   39.989  11926563  672.038623\n",
      "1703     Zimbabwe    Africa  2007   43.487  12311143  469.709298\n",
      "\n",
      "[1704 rows x 6 columns]\n"
     ]
    }
   ],
   "source": [
    "goods = pd.read_csv('C:/Users/USER/data/data/gapminder.tsv',sep='\\t')\n",
    "print(goods)"
   ]
  },
  {
   "cell_type": "code",
   "execution_count": 181,
   "id": "c52dd029",
   "metadata": {},
   "outputs": [
    {
     "name": "stdout",
     "output_type": "stream",
     "text": [
      "    apple  10   1500\n",
      "0  banana   5  15000\n",
      "1  orange  20    500\n",
      "2    pear  30   1500\n",
      "3    kiwi   7   1000\n",
      "4   mango   4    700\n"
     ]
    }
   ],
   "source": [
    "import numpy as np\n",
    "import pandas as pd\n",
    "test = pd.read_csv('C:/Users/USER/data/data/fruit.csv',sep='|')\n",
    "print(test)"
   ]
  },
  {
   "cell_type": "code",
   "execution_count": null,
   "id": "60469bff",
   "metadata": {},
   "outputs": [],
   "source": []
  },
  {
   "cell_type": "code",
   "execution_count": null,
   "id": "28fa1a0f",
   "metadata": {},
   "outputs": [],
   "source": []
  },
  {
   "cell_type": "code",
   "execution_count": null,
   "id": "8d18ed15",
   "metadata": {},
   "outputs": [],
   "source": []
  },
  {
   "cell_type": "code",
   "execution_count": null,
   "id": "11a21c6b",
   "metadata": {},
   "outputs": [],
   "source": []
  }
 ],
 "metadata": {
  "kernelspec": {
   "display_name": "Python 3 (ipykernel)",
   "language": "python",
   "name": "python3"
  },
  "language_info": {
   "codemirror_mode": {
    "name": "ipython",
    "version": 3
   },
   "file_extension": ".py",
   "mimetype": "text/x-python",
   "name": "python",
   "nbconvert_exporter": "python",
   "pygments_lexer": "ipython3",
   "version": "3.10.9"
  }
 },
 "nbformat": 4,
 "nbformat_minor": 5
}
