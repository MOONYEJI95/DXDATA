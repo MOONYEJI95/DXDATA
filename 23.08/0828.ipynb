{
 "cells": [
  {
   "cell_type": "code",
   "execution_count": 4,
   "id": "70e9c2d5",
   "metadata": {},
   "outputs": [],
   "source": [
    "# 파이썬≥3.5 필수\n",
    "import sys\n",
    "assert sys.version_info >= (3, 5)\n",
    "# 공통 모듈 임포트\n",
    "import numpy as np\n",
    "import pandas as pd\n",
    "import os\n",
    "# 깔끔한 그래프 출력을 위해 %matplotlib inline\n",
    "import matplotlib as mpl\n",
    "import matplotlib.pyplot as plt\n",
    "mpl.rc('axes', labelsize=14)\n",
    "mpl.rc('xtick', labelsize=12)\n",
    "mpl.rc('ytick', labelsize=12)\n",
    "\n",
    "# 그림을 저장할 위치\n",
    "PROJECT_ROOT_DIR = \".\"\n",
    "CHAPTER_ID = \"classification\"\n",
    "IMAGES_PATH = os.path.join(PROJECT_ROOT_DIR, \"images\", CHAPTER_ID)\n",
    "os.makedirs(IMAGES_PATH, exist_ok=True)\n",
    "def save_fig(fig_id, tight_layout=True, fig_extension=\"png\", resolution=300):\n",
    "    path = os.path.join(IMAGES_PATH, fig_id + \".\" + fig_extension)\n",
    "    print(\"그림 저장:\", fig_id)\n",
    "    if tight_layout:\n",
    "        plt.tight_layout()\n",
    "    plt.savefig(path, format=fig_extension, dpi=resolution)\n",
    "from matplotlib import font_manager, rc\n",
    "import platform\n",
    "path = \"c:/Windows/Fonts/malgun.ttf\"\n",
    "if platform.system() == 'Darwin':\n",
    "    rc('font', family='AppleGothic')\n",
    "elif platform.system() == 'Windows':\n",
    "    font_name = font_manager.FontProperties(fname=path).get_name()\n",
    "    rc('font', family=font_name)\n",
    "\n",
    "mpl.rcParams['axes.unicode_minus'] = False\n",
    "# Jupyter Notebook의 출력을 소수점 이하 3자리로 제한\n",
    "%precision 3\n",
    "# 그래픽 출력을 조금 더 고급화하기 위한 라이브러리\n",
    "import seaborn as sns\n",
    "\n",
    "#과학 기술 통계 라이브러리\n",
    "import scipy as sp\n",
    "from scipy import stats\n",
    "# 사이킷런 ≥0.20 필수 : 0.20에서 데이터 변환을 위한 Transformer클래스가 추가됨\n",
    "import sklearn\n",
    "assert sklearn.__version__ >= \"0.20\"\n",
    "\n",
    "# 데이터를 분할할 때 동일한 분할을 만들기 위해서\n",
    "# 모델을 만드는 작업을 여러 번에 걸쳐서 하는 경우 시드가 변경이 되서 훈련용 데이터가\n",
    "# 자주 변경이 되면 결국 모든 데이터를 가지고 모델을 생성하는 결과\n",
    "# Overfit이 될 가능성이 높아짐\n",
    "np.random.seed(42)\n"
   ]
  },
  {
   "cell_type": "code",
   "execution_count": null,
   "id": "89d6e4c5",
   "metadata": {},
   "outputs": [],
   "source": []
  },
  {
   "cell_type": "markdown",
   "id": "e49ba61a",
   "metadata": {},
   "source": [
    "## MINIST Data"
   ]
  },
  {
   "cell_type": "code",
   "execution_count": 6,
   "id": "9ea3231b",
   "metadata": {},
   "outputs": [
    {
     "name": "stdout",
     "output_type": "stream",
     "text": [
      "dict_keys(['data', 'target', 'frame', 'categories', 'feature_names', 'target_names', 'DESCR', 'details', 'url'])\n"
     ]
    }
   ],
   "source": [
    "# 데이터 다운로드\n",
    "# 디셔너리 형태로 다운로드\n",
    "from sklearn.datasets import fetch_openml\n",
    "mnist = fetch_openml('mnist_784', version=1, as_frame=False)\n",
    "print(mnist.keys())"
   ]
  },
  {
   "cell_type": "code",
   "execution_count": 8,
   "id": "d2900bd4",
   "metadata": {},
   "outputs": [
    {
     "name": "stdout",
     "output_type": "stream",
     "text": [
      "(70000, 784)\n",
      "(70000,)\n"
     ]
    }
   ],
   "source": [
    "# 피쳐와 타겟 가져오기\n",
    "X, y = mnist['data'], mnist['target']\n",
    "print(X.shape)\n",
    "# 데이터는 784 픽셀을 가진 흑백 이미지로 실제 크기는 28 * 28\n",
    "# 각 픽셀은 0~255 까지의 값\n",
    "print(y.shape)"
   ]
  },
  {
   "cell_type": "code",
   "execution_count": 16,
   "id": "547a30f3",
   "metadata": {},
   "outputs": [
    {
     "data": {
      "image/png": "[encoded data removed]",
      "text/plain": [
       "<Figure size 640x480 with 1 Axes>"
      ]
     },
     "metadata": {},
     "output_type": "display_data"
    }
   ],
   "source": [
    "# 하나의 이미지 출력\n",
    "some_digit=X[0] # 이 이미지는 784 픽셀로 구성\n",
    "some_digit_image = some_digit.reshape(28,28) # 2차원 이미지로 변환\n",
    "plt.imshow(some_digit_image, cmap = mpl.cm.binary)\n",
    "plt.axis('off')\n",
    "plt.show()"
   ]
  },
  {
   "cell_type": "code",
   "execution_count": 17,
   "id": "483b38f4",
   "metadata": {},
   "outputs": [
    {
     "name": "stdout",
     "output_type": "stream",
     "text": [
      "5\n"
     ]
    }
   ],
   "source": [
    "# 출력한 이미지의 레이블을 확인\n",
    "print(y[0])"
   ]
  },
  {
   "cell_type": "code",
   "execution_count": 24,
   "id": "597daee4",
   "metadata": {},
   "outputs": [],
   "source": [
    "# 여러 개의 이미지를 출력하기 위한 함수\n",
    "# 첫 번째 매개변수는 이미지\n",
    "# 두 번째 매개변수는 하나의 행에 출력할 이미지의 수 : 기본값은 10\n",
    "# 세 번째 매개변수는 옵션으로 디셔너리를 설정\n",
    "# 여러 개의 옵션을 설정해야 하는 경우 각 매개변수를 나열하는 것은 함수의 가독성을 떨어뜨림\n",
    "# 이런 경우에는 매개변수를 하나로 묶어야 하는데 dict나 class\n",
    "# 생략이 가능한 옵션을 많이 가지고 있으면 dict가 낫고 그렇지 않으면 class를 사용\n",
    "\n",
    "\n",
    "def plot_digits(instances, images_per_row=10, **options):\n",
    "    size = 28\n",
    "    # 행에 출력할 이미지의 개수를 설정\n",
    "    images_per_row = min(len(instances), images_per_row)\n",
    "    # 이미지 크기 설정\n",
    "    images = [instance.reshape(size,size) for instance in instances]\n",
    "    # 행의 개수를 출력\n",
    "    n_rows = (len(instances)-1) // images_per_row+1\n",
    "    # 이미지들을 저장할 리스트\n",
    "    row_images = []\n",
    "    n_empty = n_rows*images_per_row - len(instances)\n",
    "    \n",
    "    # 0으로 가득찬 행렬을 만들어서 row_images에 저장\n",
    "    images.append(np.zeros((size, size * n_empty)))\n",
    "    \n",
    "    # 행 단위로 순회하면서 실제 이미지를 추가\n",
    "    for row in range(n_rows):\n",
    "        rimages = images[row * images_per_row : (row + 1) * images_per_row]\n",
    "        row_images.append(np.concatenate(rimages, axis=1))\n",
    "    image = np.concatenate(row_images, axis=0)\n",
    "    #이미지 출력\n",
    "    plt.imshow(image, cmap = mpl.cm.binary, **options)\n",
    "    plt.axis(\"off\") \n",
    "    "
   ]
  },
  {
   "cell_type": "code",
   "execution_count": 25,
   "id": "247e483a",
   "metadata": {},
   "outputs": [
    {
     "name": "stdout",
     "output_type": "stream",
     "text": [
      "그림 저장: more_digits_plot\n"
     ]
    },
    {
     "data": {
      "image/png": "[encoded data removed]",
      "text/plain": [
       "<Figure size 900x900 with 1 Axes>"
      ]
     },
     "metadata": {},
     "output_type": "display_data"
    }
   ],
   "source": [
    "# 여러 개의 이미지 출력 함수 확인\n",
    "plt.figure(figsize=(9,9))\n",
    "example_images = X[:100]\n",
    "plot_digits(example_images, images_per_row=5)\n",
    "save_fig(\"more_digits_plot\")\n",
    "plt.show()"
   ]
  },
  {
   "cell_type": "code",
   "execution_count": 28,
   "id": "b44c48d3",
   "metadata": {},
   "outputs": [
    {
     "name": "stdout",
     "output_type": "stream",
     "text": [
      "<class 'numpy.uint8'>\n",
      "<class 'numpy.uint8'>\n"
     ]
    }
   ],
   "source": [
    "# 타겟의 자료형 확인\n",
    "print(type(y[0]))\n",
    "# 범주형 데이터의 자료형은 정수를 권장\n",
    "# 타겟의 자료형 변경\n",
    "# 간혹 np.int로 변경하는 경우가 있는데 numpy 버전이 변경되면서 없어짐\n",
    "y = y.astype(np.uint8)\n",
    "print(type(y[0]))"
   ]
  },
  {
   "cell_type": "markdown",
   "id": "d49b9320",
   "metadata": {},
   "source": [
    "## 이진 분류를 위한 데이터 생성"
   ]
  },
  {
   "cell_type": "code",
   "execution_count": 31,
   "id": "f2add120",
   "metadata": {},
   "outputs": [
    {
     "name": "stdout",
     "output_type": "stream",
     "text": [
      "True\n"
     ]
    }
   ],
   "source": [
    "# 훈련 데이터와 테스트 데이터 분리\n",
    "X_train, X_test, y_train, y_test = X[:60000], X[60000:], y[:60000], y[60000:]\n",
    "\n",
    "# 이진 분류는 True 와 False로 분류\n",
    "# 이진 분류의 경우는 Target이 bool\n",
    "y_train_5 = (y_train == 5)\n",
    "y_test_5 = (y_test == 5)\n",
    "print(y_train_5[0])"
   ]
  },
  {
   "cell_type": "markdown",
   "id": "f34892a4",
   "metadata": {},
   "source": [
    "## SGDClassifier를 이용한 이진분류"
   ]
  },
  {
   "cell_type": "markdown",
   "id": "43ce4c96",
   "metadata": {},
   "source": [
    "### 훈련 및 데이터 예측"
   ]
  },
  {
   "cell_type": "code",
   "execution_count": 34,
   "id": "96150d90",
   "metadata": {},
   "outputs": [
    {
     "data": {
      "text/plain": [
       "array([ True])"
      ]
     },
     "execution_count": 34,
     "metadata": {},
     "output_type": "execute_result"
    }
   ],
   "source": [
    "from sklearn.linear_model import SGDClassifier\n",
    "\n",
    "#훈련에 사용할 모델을 생성 - 하이퍼 파라미터를 설정\n",
    "#max_iter는 최대 반복 횟수\n",
    "#tol은 정밀도\n",
    "sgd_clf = SGDClassifier(max_iter=1000, tol=1e-3, random_state=42)\n",
    "\n",
    "#훈련\n",
    "sgd_clf.fit(X_train, y_train_5)\n",
    "\n",
    "#예측 - feature는 2차원 배열 이상이어야 함\n",
    "sgd_clf.predict([some_digit])"
   ]
  },
  {
   "cell_type": "markdown",
   "id": "bb4d5099",
   "metadata": {},
   "source": [
    "### k겹 교차 검증을 이용한 정확도 측정"
   ]
  },
  {
   "cell_type": "code",
   "execution_count": 35,
   "id": "26fc721f",
   "metadata": {},
   "outputs": [
    {
     "data": {
      "text/plain": [
       "array([0.95, 0.96, 0.96])"
      ]
     },
     "execution_count": 35,
     "metadata": {},
     "output_type": "execute_result"
    }
   ],
   "source": [
    "from sklearn.model_selection import cross_val_score\n",
    "# 3번 교차 검증을 수행하는데 평가 지표는 정확도\n",
    "cross_val_score(sgd_clf, X_train, y_train_5, cv=3, scoring=\"accuracy\")"
   ]
  },
  {
   "cell_type": "code",
   "execution_count": 38,
   "id": "e6044e5e",
   "metadata": {},
   "outputs": [
    {
     "data": {
      "text/plain": [
       "array([0.911, 0.909, 0.909])"
      ]
     },
     "execution_count": 38,
     "metadata": {},
     "output_type": "execute_result"
    }
   ],
   "source": [
    "# 새로운 분류기를 가지고 훈련하고 교차 검증\n",
    "from sklearn.base import BaseEstimator\n",
    "\n",
    "class Never5Classifier(BaseEstimator):\n",
    "    def fit(self, X, y=None):\n",
    "        pass\n",
    "    def predict(self, X):\n",
    "        return np.zeros((len(X),1), dtype=bool)\n",
    "never_5_clf = Never5Classifier()\n",
    "cross_val_score(never_5_clf, X_train, y_train_5, cv=3, scoring=\"accuracy\")"
   ]
  },
  {
   "cell_type": "markdown",
   "id": "fa5d1771",
   "metadata": {},
   "source": [
    "## 오차 행렬(confusion matrix)"
   ]
  },
  {
   "cell_type": "code",
   "execution_count": 41,
   "id": "51d653ee",
   "metadata": {},
   "outputs": [
    {
     "data": {
      "text/plain": [
       "array([[53892,   687],\n",
       "       [ 1891,  3530]], dtype=int64)"
      ]
     },
     "execution_count": 41,
     "metadata": {},
     "output_type": "execute_result"
    }
   ],
   "source": [
    "from sklearn.model_selection import cross_val_predict\n",
    "from sklearn.metrics import confusion_matrix\n",
    "# 확률적 경사 하강법 모델을 가지고 훈련한 후 값을 예측\n",
    "y_train_pred = cross_val_predict(sgd_clf, X_train, y_train_5, cv=3)\n",
    "# 오차 행렬 출력\n",
    "confusion_matrix(y_train_5, y_train_pred)"
   ]
  },
  {
   "cell_type": "code",
   "execution_count": 42,
   "id": "1dd24807",
   "metadata": {},
   "outputs": [
    {
     "name": "stdout",
     "output_type": "stream",
     "text": [
      "정확도: 0.9570333333333333\n",
      "정밀도: 0.8370879772350012\n",
      "재현율: 0.6511713705958311\n",
      "f1_score: 0.7325171197343846\n"
     ]
    }
   ],
   "source": [
    "#다른 평가 지표 계산\n",
    "from sklearn.metrics import accuracy_score, precision_score, recall_score, f1_score\n",
    "print(\"정확도:\", accuracy_score(y_train_5, y_train_pred))\n",
    "print(\"정밀도:\", precision_score(y_train_5, y_train_pred))\n",
    "print(\"재현율:\", recall_score(y_train_5, y_train_pred))\n",
    "print(\"f1_score:\", f1_score(y_train_5, y_train_pred))"
   ]
  },
  {
   "cell_type": "code",
   "execution_count": 46,
   "id": "a81434fd",
   "metadata": {},
   "outputs": [
    {
     "name": "stdout",
     "output_type": "stream",
     "text": [
      "[2164.22]\n",
      "[  1200.931 -26883.792 -33072.035 ...  13272.127  -7258.472 -16877.508]\n"
     ]
    }
   ],
   "source": [
    "# 결정 임계값 - 기본 값은 0\n",
    "# 자신의 점수를 출력\n",
    "y_scores = sgd_clf.decision_function([some_digit])\n",
    "print(y_scores) # 임계값인 0 보다 크기 때문에 True\n",
    "\n",
    "# 전체 훈련 데이터의 점수를 출력\n",
    "y_scores = cross_val_predict(sgd_clf, X_train, y_train_5, cv=3, method=\"decision_function\")\n",
    "print(y_scores)"
   ]
  },
  {
   "cell_type": "code",
   "execution_count": 56,
   "id": "876d120b",
   "metadata": {},
   "outputs": [
    {
     "data": {
      "image/png": "[encoded data removed]",
      "text/plain": [
       "<Figure size 800x400 with 1 Axes>"
      ]
     },
     "metadata": {},
     "output_type": "display_data"
    }
   ],
   "source": [
    "# 정밀도와 재현율 트레이드 오프\n",
    "from sklearn.metrics import precision_recall_curve\n",
    "# 정밀도, 재현율, 임계값을 전부 추출\n",
    "precisions, recalls, thresholds = precision_recall_curve(y_train_5, y_scores)\n",
    "\n",
    "# 정밀도와 재현율 그래프를 그려주는 함수\n",
    "def plot_precision_recall_vs_threshold(precisions, recalls, thresholds):\n",
    "    plt.plot(thresholds, precisions[:-1], \"b--\", label=\"Precision\", linewidth=2)\n",
    "    plt.plot(thresholds, recalls[:-1], \"g--\", label=\"Recall\", linewidth=2)\n",
    "    \n",
    "    plt.legend(loc=\"center right\", fontsize=16)\n",
    "    plt.xlabel(\"Threshhold\", fontsize=16)\n",
    "    plt.grid(True)\n",
    "    plt.axis([-50000, 50000, 0, 1])\n",
    "    \n",
    "plt.figure(figsize=(8,4))\n",
    "plot_precision_recall_vs_threshold(precisions, recalls, thresholds)\n",
    "\n",
    "#정밀도가 0.9가 되는 위치의 재현율 조회\n",
    "recall_90_precision = recalls[np.argmax(precisions >= 0.90)]\n",
    "threshold_90_precision = thresholds[np.argmax(precisions >= 0.90)]\n",
    "\n",
    "plt.plot([threshold_90_precision, threshold_90_precision], [0,0.9], \"r\")\n",
    "plt.plot([-50000, threshold_90_precision], [0.9, 0.9], \"r\")\n",
    "plt.plot([-50000, threshold_90_precision,],[recall_90_precision, recall_90_precision], \"r\")\n",
    "\n",
    "plt.plot([threshold_90_precision],[0.9],\"ro\")\n",
    "plt.plot([threshold_90_precision],[recall_90_precision],\"ro\")\n",
    "plt.show()"
   ]
  },
  {
   "cell_type": "code",
   "execution_count": 58,
   "id": "cc3bb3f1",
   "metadata": {},
   "outputs": [
    {
     "name": "stdout",
     "output_type": "stream",
     "text": [
      "0.9000345901072293\n",
      "0.4799852425751706\n"
     ]
    }
   ],
   "source": [
    "# 정밀도가 0.9가 되는 지점을 이용해서 예측\n",
    "y_train_pred_90 = (y_scores >= threshold_90_precision)\n",
    "# 정밀도\n",
    "print(precision_score(y_train_5, y_train_pred_90))\n",
    "# 재현율\n",
    "print(recall_score(y_train_5, y_train_pred_90))"
   ]
  },
  {
   "cell_type": "markdown",
   "id": "e31e5e17",
   "metadata": {},
   "source": [
    "### ROC 곡선"
   ]
  },
  {
   "cell_type": "code",
   "execution_count": 59,
   "id": "1ab5d97a",
   "metadata": {},
   "outputs": [
    {
     "data": {
      "image/png": "[encoded data removed]",
      "text/plain": [
       "<Figure size 800x600 with 1 Axes>"
      ]
     },
     "metadata": {},
     "output_type": "display_data"
    }
   ],
   "source": [
    "from sklearn.metrics import roc_curve\n",
    "\n",
    "#그래프 사용할 값 계산\n",
    "fpr, tpr, thresholds = roc_curve(y_train_5, y_scores)\n",
    "\n",
    "def plot_roc_curve(fpr, tpr, label=None):\n",
    "    plt.plot(fpr, tpr, linewidth=2, label=label)\n",
    "    plt.plot([0,1],[0,1], 'k--') #대각선 - 완전 랜덤인 경우\n",
    "    plt.axis([0,1,0,1])\n",
    "    plt.xlabel(\"False Positive Rate (Fall-Out)\", fontsize=16)\n",
    "    plt.xlabel(\"True Positive Rate (Recall)\", fontsize=16)\n",
    "    plt.grid(True)\n",
    "    \n",
    "plt.figure(figsize=(8,6))\n",
    "plot_roc_curve(fpr, tpr)\n",
    "plt.show()"
   ]
  },
  {
   "cell_type": "code",
   "execution_count": 61,
   "id": "988c3d45",
   "metadata": {},
   "outputs": [
    {
     "name": "stdout",
     "output_type": "stream",
     "text": [
      "0.9604938554008616\n"
     ]
    }
   ],
   "source": [
    "# ROC 곡선의 면적\n",
    "from sklearn.metrics import roc_auc_score\n",
    "print(roc_auc_score(y_train_5, y_scores))"
   ]
  },
  {
   "cell_type": "markdown",
   "id": "0775a6ae",
   "metadata": {},
   "source": [
    "## 다중 분류"
   ]
  },
  {
   "cell_type": "markdown",
   "id": "81f186ac",
   "metadata": {},
   "source": [
    "### 이진 분류기를 이용한 다중 분류"
   ]
  },
  {
   "cell_type": "markdown",
   "id": "afdafddf",
   "metadata": {},
   "source": []
  },
  {
   "cell_type": "code",
   "execution_count": 64,
   "id": "b9c1b6a6",
   "metadata": {},
   "outputs": [
    {
     "name": "stdout",
     "output_type": "stream",
     "text": [
      "[5]\n",
      "[[ 2.816  7.092  3.83   0.794  5.889  9.297  1.799  8.104 -0.228  4.838]]\n"
     ]
    }
   ],
   "source": [
    "from sklearn.svm import SVC\n",
    "# 이진 분류기\n",
    "svm_clf = SVC(gamma=\"auto\", random_state=42)\n",
    "# 이진 분류기를 이용해서 0 - 9 까지 10개를 분류\n",
    "svm_clf.fit(X_train[:1000], y_train[:1000])\n",
    "print(svm_clf.predict([some_digit]))\n",
    "# 결정 점수를 확인\n",
    "some_digit_scores = svm_clf.decision_function([some_digit])\n",
    "print(some_digit_scores)"
   ]
  },
  {
   "cell_type": "markdown",
   "id": "d53e40cf",
   "metadata": {},
   "source": [
    "### SGD를 이용한 다중 분류"
   ]
  },
  {
   "cell_type": "code",
   "execution_count": 67,
   "id": "8ee1d0cc",
   "metadata": {},
   "outputs": [
    {
     "name": "stdout",
     "output_type": "stream",
     "text": [
      "[3]\n",
      "[[-31893.031 -34419.691  -9530.64    1823.732 -22320.148  -1385.805\n",
      "  -26188.911 -16147.513  -4604.355 -12050.767]]\n"
     ]
    }
   ],
   "source": [
    "sgd_clf.fit(X_train, y_train)\n",
    "# 예측\n",
    "print(sgd_clf.predict([some_digit]))\n",
    "# 결정 점수 확인\n",
    "print(sgd_clf.decision_function([some_digit]))"
   ]
  },
  {
   "cell_type": "code",
   "execution_count": 68,
   "id": "99cbf330",
   "metadata": {},
   "outputs": [
    {
     "data": {
      "text/plain": [
       "array([0.874, 0.858, 0.869])"
      ]
     },
     "execution_count": 68,
     "metadata": {},
     "output_type": "execute_result"
    }
   ],
   "source": [
    "# 교차 검증을 이용한 정확도 확인\n",
    "cross_val_score(sgd_clf, X_train, y_train, cv=3, scoring=\"accuracy\")"
   ]
  },
  {
   "cell_type": "code",
   "execution_count": 70,
   "id": "385ba7db",
   "metadata": {},
   "outputs": [
    {
     "data": {
      "text/plain": [
       "array([0.898, 0.891, 0.902])"
      ]
     },
     "execution_count": 70,
     "metadata": {},
     "output_type": "execute_result"
    }
   ],
   "source": [
    "# 특성이 여러 개이고 이 특성의 값의 분포가 일정하지 않은 경우\n",
    "# scailing 이나 standardization을 고려\n",
    "from sklearn.preprocessing import StandardScaler\n",
    "scaler = StandardScaler()\n",
    "X_train_scaled = scaler.fit_transform(X_train.astype(np.float64))\n",
    "cross_val_score(sgd_clf, X_train_scaled, y_train, cv=3, scoring=\"accuracy\")"
   ]
  },
  {
   "cell_type": "code",
   "execution_count": 71,
   "id": "6b48daa7",
   "metadata": {},
   "outputs": [
    {
     "name": "stdout",
     "output_type": "stream",
     "text": [
      "[[5860   63    0    0    0    0    0    0    0    0]\n",
      " [6675   67    0    0    0    0    0    0    0    0]\n",
      " [5932   26    0    0    0    0    0    0    0    0]\n",
      " [5913  218    0    0    0    0    0    0    0    0]\n",
      " [5821   21    0    0    0    0    0    0    0    0]\n",
      " [1891 3530    0    0    0    0    0    0    0    0]\n",
      " [5796  122    0    0    0    0    0    0    0    0]\n",
      " [6251   14    0    0    0    0    0    0    0    0]\n",
      " [5741  110    0    0    0    0    0    0    0    0]\n",
      " [5903   46    0    0    0    0    0    0    0    0]]\n"
     ]
    }
   ],
   "source": [
    "y_train_predict = cross_val_predict(sgd_clf, X_train_scaled, y_train, cv=3)\n",
    "conf_mx = confusion_matrix(y_train, y_train_pred)\n",
    "print(conf_mx)"
   ]
  },
  {
   "cell_type": "code",
   "execution_count": 72,
   "id": "f14a25e0",
   "metadata": {},
   "outputs": [
    {
     "data": {
      "image/png": "[encoded data removed]",
      "text/plain": [
       "<Figure size 480x480 with 1 Axes>"
      ]
     },
     "metadata": {},
     "output_type": "display_data"
    }
   ],
   "source": [
    "# 오차 행렬을 시각화\n",
    "plt.matshow(conf_mx, cmap = plt.cm.gray)\n",
    "plt.show()"
   ]
  },
  {
   "cell_type": "code",
   "execution_count": 73,
   "id": "685441f3",
   "metadata": {},
   "outputs": [
    {
     "data": {
      "image/png": "[encoded data removed]",
      "text/plain": [
       "<Figure size 480x480 with 1 Axes>"
      ]
     },
     "metadata": {},
     "output_type": "display_data"
    }
   ],
   "source": [
    "# 오차 행렬을 각 행의 합계로 나누고 대각선을 0으로 채워서 오류를 조금 더 눈에 띄게 출력\n",
    "# 분류 모델에서는 이 행렬을 반드시 출력해보는 것이 좋음\n",
    "# 잘못 분류된 모델을 확인해 볼 수 있음\n",
    "row_sums = conf_mx.sum(axis=1, keepdims=True)\n",
    "norm_conf_mx = conf_mx / row_sums\n",
    "# 주 대각선 방향을 0으로 채움\n",
    "np.fill_diagonal(norm_conf_mx,0)\n",
    "plt.matshow(norm_conf_mx, cmap=plt.cm.gray)\n",
    "plt.show()"
   ]
  },
  {
   "cell_type": "markdown",
   "id": "c022884a",
   "metadata": {},
   "source": [
    "### 다중 레이블 분류"
   ]
  },
  {
   "cell_type": "code",
   "execution_count": 76,
   "id": "1c9d3e75",
   "metadata": {},
   "outputs": [
    {
     "data": {
      "text/plain": [
       "array([[False,  True]])"
      ]
     },
     "execution_count": 76,
     "metadata": {},
     "output_type": "execute_result"
    }
   ],
   "source": [
    "# 출력해야 할 레이블이 여러 개인 경우\n",
    "# 이미지를 가지고 7보다 큰지 그리고 홀수인지 여부를 같이 리턴해야 하는 경우\n",
    "from sklearn.neighbors import KNeighborsClassifier\n",
    "\n",
    "y_train_large = (y_train >= 7)\n",
    "y_train_odd = (y_train % 2 == 1)\n",
    "# 2개를 가지고 MultiLabel 생성\n",
    "y_multilabel = np.c_[y_train_large, y_train_odd]\n",
    "knn_clf = KNeighborsClassifier()\n",
    "knn_clf.fit(X_train, y_multilabel)\n",
    "knn_clf.predict([some_digit])"
   ]
  },
  {
   "cell_type": "markdown",
   "id": "f7cd8869",
   "metadata": {},
   "source": [
    "## 분류 알고리즘"
   ]
  },
  {
   "cell_type": "markdown",
   "id": "200a16be",
   "metadata": {},
   "source": [
    "### LDA(선형 판별 분석)"
   ]
  },
  {
   "cell_type": "code",
   "execution_count": 78,
   "id": "1b257406",
   "metadata": {},
   "outputs": [
    {
     "name": "stdout",
     "output_type": "stream",
     "text": [
      "   Unnamed: 0   outcome            purpose_    dti  borrower_score  \\\n",
      "0       32109  paid off  debt_consolidation  21.23            0.40   \n",
      "1       16982   default         credit_card  15.49            0.40   \n",
      "2       25335  paid off  debt_consolidation  27.30            0.70   \n",
      "3       34580  paid off      major_purchase  21.11            0.40   \n",
      "4       14424   default  debt_consolidation  16.46            0.45   \n",
      "\n",
      "   payment_inc_ratio  \n",
      "0            5.11135  \n",
      "1            5.43165  \n",
      "2            9.23003  \n",
      "3            2.33482  \n",
      "4           12.10320  \n",
      "<class 'pandas.core.frame.DataFrame'>\n",
      "RangeIndex: 3000 entries, 0 to 2999\n",
      "Data columns (total 6 columns):\n",
      " #   Column             Non-Null Count  Dtype  \n",
      "---  ------             --------------  -----  \n",
      " 0   Unnamed: 0         3000 non-null   int64  \n",
      " 1   outcome            3000 non-null   object \n",
      " 2   purpose_           3000 non-null   object \n",
      " 3   dti                3000 non-null   float64\n",
      " 4   borrower_score     3000 non-null   float64\n",
      " 5   payment_inc_ratio  3000 non-null   float64\n",
      "dtypes: float64(3), int64(1), object(2)\n",
      "memory usage: 140.8+ KB\n"
     ]
    }
   ],
   "source": [
    "# borrowscore와 payment_inc_ratio에 따른 outcome 선형 판별 분석\n",
    "loan3000 = pd.read_csv(\"./data/data/data/loan3000.csv\")\n",
    "print(loan3000.head())\n",
    "loan3000.info()"
   ]
  },
  {
   "cell_type": "code",
   "execution_count": 79,
   "id": "8038b4df",
   "metadata": {},
   "outputs": [
    {
     "name": "stdout",
     "output_type": "stream",
     "text": [
      "                   Unnamed: 0       dti  borrower_score  payment_inc_ratio\n",
      "Unnamed: 0           1.000000 -0.095606        0.249030          -0.102143\n",
      "dti                 -0.095606  1.000000       -0.258860           0.232972\n",
      "borrower_score       0.249030 -0.258860        1.000000          -0.109575\n",
      "payment_inc_ratio   -0.102143  0.232972       -0.109575           1.000000\n",
      "      borrower_score  payment_inc_ratio\n",
      "0               0.40            5.11135\n",
      "1               0.40            5.43165\n",
      "2               0.70            9.23003\n",
      "3               0.40            2.33482\n",
      "4               0.45           12.10320\n",
      "...              ...                ...\n",
      "2995            0.50           18.36620\n",
      "2996            0.60            1.80421\n",
      "2997            0.20           15.42180\n",
      "2998            0.45            8.92335\n",
      "2999            0.40           12.88190\n",
      "\n",
      "[3000 rows x 2 columns]\n",
      "0       paid off\n",
      "1        default\n",
      "2       paid off\n",
      "3       paid off\n",
      "4        default\n",
      "          ...   \n",
      "2995    paid off\n",
      "2996    paid off\n",
      "2997     default\n",
      "2998     default\n",
      "2999     default\n",
      "Name: outcome, Length: 3000, dtype: category\n",
      "Categories (2, object): ['default', 'paid off']\n"
     ]
    },
    {
     "name": "stderr",
     "output_type": "stream",
     "text": [
      "C:\\Users\\USER\\AppData\\Local\\Temp\\ipykernel_3704\\2849596509.py:4: FutureWarning: The default value of numeric_only in DataFrame.corr is deprecated. In a future version, it will default to False. Select only valid columns or specify the value of numeric_only to silence this warning.\n",
      "  print(loan3000.corr())\n"
     ]
    }
   ],
   "source": [
    "# 타겟을 범주형으로 변환\n",
    "loan3000.outcome = loan3000.outcome.astype(\"category\")\n",
    "\n",
    "print(loan3000.corr())\n",
    "# 독립 변수와 종속 변수를 설정\n",
    "predictors = ['borrower_score', 'payment_inc_ratio']\n",
    "outcome='outcome'\n",
    "\n",
    "# 독립 변수 - feature\n",
    "X = loan3000[predictors]\n",
    "# 종속 변수 - target\n",
    "y = loan3000[outcome]\n",
    "\n",
    "print(X)\n",
    "print(y)\n",
    "\n"
   ]
  },
  {
   "cell_type": "code",
   "execution_count": 81,
   "id": "77579806",
   "metadata": {},
   "outputs": [
    {
     "name": "stdout",
     "output_type": "stream",
     "text": [
      "                          0\n",
      "borrower_score     7.175839\n",
      "payment_inc_ratio -0.099676\n"
     ]
    }
   ],
   "source": [
    "from sklearn.discriminant_analysis import LinearDiscriminantAnalysis\n",
    "\n",
    "loan_lda = LinearDiscriminantAnalysis()\n",
    "loan_lda.fit(X, y)\n",
    "# 최적의 값을 확인\n",
    "print(pd.DataFrame(loan_lda.scalings_, index=X.columns))"
   ]
  },
  {
   "cell_type": "code",
   "execution_count": 83,
   "id": "9b8705c3",
   "metadata": {},
   "outputs": [
    {
     "name": "stdout",
     "output_type": "stream",
     "text": [
      "    default  paid off\n",
      "0  0.553544  0.446456\n",
      "1  0.558953  0.441047\n",
      "2  0.272696  0.727304\n",
      "3  0.506254  0.493746\n",
      "4  0.609952  0.390048\n"
     ]
    }
   ],
   "source": [
    "# 처음 5개의 데이터 판별\n",
    "pred = pd.DataFrame(loan_lda.predict_proba(loan3000[predictors]), columns=loan_lda.classes_)\n",
    "print(pred.head())\n",
    "\n",
    "# 결과 해석(default와 paid_off의 확률을 확인)\n",
    "# 첫번째 데이터가 default일 확률이 55.3544%, paid off일 확률이 44.6456%"
   ]
  },
  {
   "cell_type": "markdown",
   "id": "1f3a38a5",
   "metadata": {},
   "source": [
    "#### loan_200.csv 파일의 데이터를 읽어서 payment_inc_ratio와 dti를 이용해서 outcome을 예측"
   ]
  },
  {
   "cell_type": "code",
   "execution_count": 85,
   "id": "15ba21b9",
   "metadata": {},
   "outputs": [
    {
     "name": "stdout",
     "output_type": "stream",
     "text": [
      "     payment_inc_ratio    dti\n",
      "1              5.46933  21.33\n",
      "2              6.90294   8.97\n",
      "3             11.14800   1.83\n",
      "4              3.72120  10.81\n",
      "5              1.89923  11.34\n",
      "..                 ...    ...\n",
      "196           11.66300  26.09\n",
      "197            2.97641  16.41\n",
      "198            1.96846  19.98\n",
      "199            9.64200  20.17\n",
      "200            7.03924  13.88\n",
      "\n",
      "[200 rows x 2 columns]\n",
      "1       default\n",
      "2      paid off\n",
      "3      paid off\n",
      "4       default\n",
      "5      paid off\n",
      "         ...   \n",
      "196     default\n",
      "197     default\n",
      "198     default\n",
      "199    paid off\n",
      "200    paid off\n",
      "Name: outcome, Length: 200, dtype: object\n"
     ]
    }
   ],
   "source": [
    "from sklearn.neighbors import KNeighborsClassifier\n",
    "\n",
    "# 데이터 불러오기\n",
    "loan200 = pd.read_csv('./data/data/data/loan200.csv')\n",
    "\n",
    "predictors = [\"payment_inc_ratio\", \"dti\"]\n",
    "outcome = 'outcome'\n",
    "\n",
    "# 테스트 데이터와 예측 변수 및 타겟 벡터 분리\n",
    "# newloan이라는 이름으로 데이터 하나 빼두기\n",
    "newloan = loan200.loc[0:0, predictors]\n",
    "X = loan200.loc[1:, predictors]\n",
    "y = loan200.loc[1:, outcome]\n",
    "print(X)\n",
    "print(y)\n"
   ]
  },
  {
   "cell_type": "code",
   "execution_count": 87,
   "id": "1dfa9871",
   "metadata": {},
   "outputs": [
    {
     "data": {
      "text/plain": [
       "array([[0.45, 0.55]])"
      ]
     },
     "execution_count": 87,
     "metadata": {},
     "output_type": "execute_result"
    }
   ],
   "source": [
    "# 판별할 이웃의 개수 설정\n",
    "knn = KNeighborsClassifier(n_neighbors=20)\n",
    "#훈련 \n",
    "knn.fit(X, y)\n",
    "#예측\n",
    "knn.predict(newloan)\n",
    "\n",
    "#결과 'paid off' 로 나옴\n",
    "\n",
    "# 확률 확인\n",
    "knn.predict_proba(newloan)\n",
    "# 결과\n",
    "# array([[0.45, 0.55]]) -> default 확률이 45%, paid off 확률이 55%"
   ]
  },
  {
   "cell_type": "markdown",
   "id": "95b87c1a",
   "metadata": {},
   "source": [
    "#### 표준화를 수행한 경우와의 차이"
   ]
  },
  {
   "cell_type": "code",
   "execution_count": 88,
   "id": "19b665b4",
   "metadata": {},
   "outputs": [
    {
     "name": "stdout",
     "output_type": "stream",
     "text": [
      "   payment_inc_ratio  dti  revol_bal  revol_util\n",
      "0             2.3932  1.0       1687         9.4\n"
     ]
    }
   ],
   "source": [
    "loan_data = pd.read_csv('./data/data/data/loan_data.csv.gz')\n",
    "loan_data = loan_data.drop(columns=['Unnamed: 0', 'status'])\n",
    "loan_data['outcome'] = pd.Categorical(loan_data['outcome'],categories=['paid off', 'default'],ordered=True)\n",
    "\n",
    "predictors = ['payment_inc_ratio', 'dti', 'revol_bal', 'revol_util']\n",
    "outcome = 'outcome'\n",
    "newloan = loan_data.loc[0:0, predictors]\n",
    "print(newloan)"
   ]
  },
  {
   "cell_type": "code",
   "execution_count": 89,
   "id": "e6d509ff",
   "metadata": {},
   "outputs": [
    {
     "name": "stdout",
     "output_type": "stream",
     "text": [
      "       payment_inc_ratio   dti  revol_bal  revol_util\n",
      "35536            1.47212  1.46       1686        10.0\n",
      "33651            3.38178  6.37       1688         8.4\n",
      "25863            2.36303  1.39       1691         3.5\n",
      "42953            1.28160  7.14       1684         3.9\n",
      "43599            4.12244  8.98       1684         7.2\n"
     ]
    }
   ],
   "source": [
    "#정규화를 하지 않은 경우 가까운 5개의 이웃 구하기\n",
    "X = loan_data.loc[1:, predictors]\n",
    "y = loan_data.loc[1:, outcome]\n",
    "\n",
    "#표준화를 하지 않으면 이웃을 찾을 때 특정 특성이 영향을 많이 미치게 됨\n",
    "knn = KNeighborsClassifier(n_neighbors=5)\n",
    "knn.fit(X, y)\n",
    "\n",
    "#상대적으로 revol_bal이 가까운 데이터가 선택되게 됨\n",
    "nbrs = knn.kneighbors(newloan)\n",
    "print(X.iloc[nbrs[1][0], :])\n",
    "\n"
   ]
  },
  {
   "cell_type": "code",
   "execution_count": 91,
   "id": "2a9feb42",
   "metadata": {},
   "outputs": [
    {
     "name": "stdout",
     "output_type": "stream",
     "text": [
      "       payment_inc_ratio   dti  revol_bal  revol_util\n",
      "2080             2.61091  1.03       1218         9.7\n",
      "1438             2.34343  0.51        278         9.9\n",
      "30215            2.71200  1.34       1075         8.5\n",
      "28542            2.39760  0.74       2917         7.4\n",
      "44737            2.34309  1.37        488         7.2\n"
     ]
    }
   ],
   "source": [
    "# 정규화를 수행한 후 이웃 구하기\n",
    "from sklearn import preprocessing\n",
    "\n",
    "scaler = preprocessing.StandardScaler()\n",
    "scaler.fit(X*1.0) # 정수를 실수로 만들기\n",
    "\n",
    "# 정규화\n",
    "X_std = scaler.transform(X * 1.0)\n",
    "newloan_std = scaler.transform(newloan * 1.0)\n",
    "\n",
    "knn = KNeighborsClassifier(n_neighbors=5)\n",
    "knn.fit(X_std, y)\n",
    "\n",
    "#이전에 비해서 revol_bal을 제외한 속성의 거리들이 가까워짐\n",
    "nbrs = knn.kneighbors(newloan_std)\n",
    "print(X.iloc[nbrs[1][0], :])"
   ]
  },
  {
   "cell_type": "markdown",
   "id": "d6f7930b",
   "metadata": {},
   "source": [
    "## Logistic Regression"
   ]
  },
  {
   "cell_type": "markdown",
   "id": "e4172357",
   "metadata": {},
   "source": [
    "### 붓꽃의 이진 분류 - virginica 인지 아닌지 여부"
   ]
  },
  {
   "cell_type": "code",
   "execution_count": 93,
   "id": "c6b23ebd",
   "metadata": {},
   "outputs": [
    {
     "name": "stdout",
     "output_type": "stream",
     "text": [
      "[[0.2]\n",
      " [0.2]\n",
      " [0.2]\n",
      " [0.2]\n",
      " [0.2]\n",
      " [0.4]\n",
      " [0.3]\n",
      " [0.2]\n",
      " [0.2]\n",
      " [0.1]\n",
      " [0.2]\n",
      " [0.2]\n",
      " [0.1]\n",
      " [0.1]\n",
      " [0.2]\n",
      " [0.4]\n",
      " [0.4]\n",
      " [0.3]\n",
      " [0.3]\n",
      " [0.3]\n",
      " [0.2]\n",
      " [0.4]\n",
      " [0.2]\n",
      " [0.5]\n",
      " [0.2]\n",
      " [0.2]\n",
      " [0.4]\n",
      " [0.2]\n",
      " [0.2]\n",
      " [0.2]\n",
      " [0.2]\n",
      " [0.4]\n",
      " [0.1]\n",
      " [0.2]\n",
      " [0.2]\n",
      " [0.2]\n",
      " [0.2]\n",
      " [0.1]\n",
      " [0.2]\n",
      " [0.2]\n",
      " [0.3]\n",
      " [0.3]\n",
      " [0.2]\n",
      " [0.6]\n",
      " [0.4]\n",
      " [0.3]\n",
      " [0.2]\n",
      " [0.2]\n",
      " [0.2]\n",
      " [0.2]\n",
      " [1.4]\n",
      " [1.5]\n",
      " [1.5]\n",
      " [1.3]\n",
      " [1.5]\n",
      " [1.3]\n",
      " [1.6]\n",
      " [1. ]\n",
      " [1.3]\n",
      " [1.4]\n",
      " [1. ]\n",
      " [1.5]\n",
      " [1. ]\n",
      " [1.4]\n",
      " [1.3]\n",
      " [1.4]\n",
      " [1.5]\n",
      " [1. ]\n",
      " [1.5]\n",
      " [1.1]\n",
      " [1.8]\n",
      " [1.3]\n",
      " [1.5]\n",
      " [1.2]\n",
      " [1.3]\n",
      " [1.4]\n",
      " [1.4]\n",
      " [1.7]\n",
      " [1.5]\n",
      " [1. ]\n",
      " [1.1]\n",
      " [1. ]\n",
      " [1.2]\n",
      " [1.6]\n",
      " [1.5]\n",
      " [1.6]\n",
      " [1.5]\n",
      " [1.3]\n",
      " [1.3]\n",
      " [1.3]\n",
      " [1.2]\n",
      " [1.4]\n",
      " [1.2]\n",
      " [1. ]\n",
      " [1.3]\n",
      " [1.2]\n",
      " [1.3]\n",
      " [1.3]\n",
      " [1.1]\n",
      " [1.3]\n",
      " [2.5]\n",
      " [1.9]\n",
      " [2.1]\n",
      " [1.8]\n",
      " [2.2]\n",
      " [2.1]\n",
      " [1.7]\n",
      " [1.8]\n",
      " [1.8]\n",
      " [2.5]\n",
      " [2. ]\n",
      " [1.9]\n",
      " [2.1]\n",
      " [2. ]\n",
      " [2.4]\n",
      " [2.3]\n",
      " [1.8]\n",
      " [2.2]\n",
      " [2.3]\n",
      " [1.5]\n",
      " [2.3]\n",
      " [2. ]\n",
      " [2. ]\n",
      " [1.8]\n",
      " [2.1]\n",
      " [1.8]\n",
      " [1.8]\n",
      " [1.8]\n",
      " [2.1]\n",
      " [1.6]\n",
      " [1.9]\n",
      " [2. ]\n",
      " [2.2]\n",
      " [1.5]\n",
      " [1.4]\n",
      " [2.3]\n",
      " [2.4]\n",
      " [1.8]\n",
      " [1.8]\n",
      " [2.1]\n",
      " [2.4]\n",
      " [2.3]\n",
      " [1.9]\n",
      " [2.3]\n",
      " [2.5]\n",
      " [2.3]\n",
      " [1.9]\n",
      " [2. ]\n",
      " [2.3]\n",
      " [1.8]]\n",
      "[0 0 0 0 0 0 0 0 0 0 0 0 0 0 0 0 0 0 0 0 0 0 0 0 0 0 0 0 0 0 0 0 0 0 0 0 0\n",
      " 0 0 0 0 0 0 0 0 0 0 0 0 0 0 0 0 0 0 0 0 0 0 0 0 0 0 0 0 0 0 0 0 0 0 0 0 0\n",
      " 0 0 0 0 0 0 0 0 0 0 0 0 0 0 0 0 0 0 0 0 0 0 0 0 0 0 1 1 1 1 1 1 1 1 1 1 1\n",
      " 1 1 1 1 1 1 1 1 1 1 1 1 1 1 1 1 1 1 1 1 1 1 1 1 1 1 1 1 1 1 1 1 1 1 1 1 1\n",
      " 1 1]\n"
     ]
    }
   ],
   "source": [
    "# 데이터 가져오기\n",
    "from sklearn import datasets\n",
    "iris = datasets.load_iris()\n",
    "#list(iris.keys())\n",
    "\n",
    "#피처 생성\n",
    "X = iris['data'][:, 3:]\n",
    "y = (iris['target'] == 2).astype(np.uint8)\n",
    "print(X)\n",
    "print(y)\n",
    "\n"
   ]
  },
  {
   "cell_type": "code",
   "execution_count": 96,
   "id": "bd180989",
   "metadata": {},
   "outputs": [
    {
     "name": "stdout",
     "output_type": "stream",
     "text": [
      "[1.661]\n"
     ]
    }
   ],
   "source": [
    "from sklearn.linear_model import LogisticRegression\n",
    "\n",
    "# 분류 모델 생성\n",
    "log_reg = LogisticRegression(solver=\"lbfgs\", random_state=42)\n",
    "# 모델 훈련\n",
    "log_reg.fit(X,y)\n",
    "\n",
    "# 샘플 데이터를 1000개를 생성해서 예측\n",
    "X_new = np.linspace(0,3,1000).reshape(-1,1)\n",
    "# 각 샘플의 확률을 계산\n",
    "y_proba = log_reg.predict_proba(X_new)\n",
    "# 경계 점수 - 이 값보다 크면 virginica 그렇지 않으면 virginica 가 아님\n",
    "decision_boundary = X_new[y_proba[:,1] >=0.5][0]\n",
    "print(decision_boundary)\n",
    "\n",
    "# 결과 : 1.661 -> 1.661을 기준으로 virginica 인지 아닌지 분류\n",
    "\n",
    "\n",
    "# 예측\n",
    "print(log_reg.predict([[1.7],[1.5]]))"
   ]
  },
  {
   "cell_type": "code",
   "execution_count": null,
   "id": "0791527e",
   "metadata": {},
   "outputs": [],
   "source": []
  },
  {
   "cell_type": "code",
   "execution_count": null,
   "id": "62b0fd6f",
   "metadata": {},
   "outputs": [],
   "source": []
  },
  {
   "cell_type": "code",
   "execution_count": null,
   "id": "b5268206",
   "metadata": {},
   "outputs": [],
   "source": []
  }
 ],
 "metadata": {
  "kernelspec": {
   "display_name": "Python 3 (ipykernel)",
   "language": "python",
   "name": "python3"
  },
  "language_info": {
   "codemirror_mode": {
    "name": "ipython",
    "version": 3
   },
   "file_extension": ".py",
   "mimetype": "text/x-python",
   "name": "python",
   "nbconvert_exporter": "python",
   "pygments_lexer": "ipython3",
   "version": "3.10.9"
  }
 },
 "nbformat": 4,
 "nbformat_minor": 5
}
