{
 "cells": [
  {
   "cell_type": "markdown",
   "id": "2316bbf8",
   "metadata": {},
   "source": [
    "# numpy"
   ]
  },
  {
   "cell_type": "markdown",
   "id": "05b975fe",
   "metadata": {},
   "source": [
    "## 속도 비교"
   ]
  },
  {
   "cell_type": "code",
   "execution_count": 5,
   "id": "94903d83",
   "metadata": {},
   "outputs": [],
   "source": [
    "import numpy as np\n",
    "import datetime"
   ]
  },
  {
   "cell_type": "code",
   "execution_count": 9,
   "id": "66920964",
   "metadata": {},
   "outputs": [
    {
     "name": "stdout",
     "output_type": "stream",
     "text": [
      "시작시간: 2023-08-07 15:26:49.161080\n",
      "종료시간: 2023-08-07 15:26:49.307865\n"
     ]
    }
   ],
   "source": [
    "# list의 작업 시간\n",
    "li = range(1,1000000)\n",
    "\n",
    "# 현재 시간 저장\n",
    "s = datetime.datetime.now()\n",
    "print(\"시작시간:\",s)\n",
    "\n",
    "# 모든 요소에 10을 곱해서 list를 수정\n",
    "for i in li :\n",
    "    i = i * 10\n",
    "    \n",
    "# 현재 시간 저장\n",
    "s = datetime.datetime.now()\n",
    "print(\"종료시간:\",s)"
   ]
  },
  {
   "cell_type": "code",
   "execution_count": 10,
   "id": "e80809c7",
   "metadata": {},
   "outputs": [
    {
     "name": "stdout",
     "output_type": "stream",
     "text": [
      "시작시간: 2023-08-07 15:26:51.007886\n",
      "종료시간: 2023-08-07 15:26:51.010098\n"
     ]
    }
   ],
   "source": [
    "ar = np.arange(1,1000000)\n",
    "s = datetime.datetime.now()\n",
    "print(\"시작시간:\",s)\n",
    "ar = ar * 10\n",
    "s = datetime.datetime.now()\n",
    "print(\"종료시간:\",s)"
   ]
  },
  {
   "cell_type": "code",
   "execution_count": null,
   "id": "44ba98b6",
   "metadata": {},
   "outputs": [],
   "source": []
  },
  {
   "cell_type": "code",
   "execution_count": 12,
   "id": "3d827d38",
   "metadata": {},
   "outputs": [
    {
     "name": "stdout",
     "output_type": "stream",
     "text": [
      "<class 'numpy.ndarray'>\n",
      "int32\n",
      "1\n",
      "(3,)\n"
     ]
    }
   ],
   "source": [
    "# 배열 정보 확인\n",
    "ar = np.array([1,2,3])\n",
    "print(type(ar)) #ar의 자료형\n",
    "print(ar.dtype) #ar에 저장된 요소의 자료형\n",
    "print(ar.ndim) #일차원 배열\n",
    "print(ar.shape) #3개의 행으로 구성\n"
   ]
  },
  {
   "cell_type": "code",
   "execution_count": 13,
   "id": "59a6b006",
   "metadata": {},
   "outputs": [
    {
     "name": "stdout",
     "output_type": "stream",
     "text": [
      "2\n",
      "(2, 3)\n"
     ]
    }
   ],
   "source": [
    "ar = np.array([[1,2,3],[4,5,6]])\n",
    "print(ar.ndim) #2\n",
    "print(ar.shape) #2행3열\n"
   ]
  },
  {
   "cell_type": "code",
   "execution_count": null,
   "id": "0a6bc9e5",
   "metadata": {},
   "outputs": [],
   "source": []
  },
  {
   "cell_type": "code",
   "execution_count": 19,
   "id": "53c3808f",
   "metadata": {},
   "outputs": [
    {
     "name": "stdout",
     "output_type": "stream",
     "text": [
      "[ 1  3  5  7  9 11 13 15 17 19 21 23 25 27 29 31 33 35 37 39 41 43 45 47\n",
      " 49 51 53 55 57 59 61 63 65 67 69 71 73 75 77 79 81 83 85 87 89 91 93 95\n",
      " 97 99]\n",
      "[  1.  12.  23.  34.  45.  56.  67.  78.  89. 100.]\n"
     ]
    }
   ],
   "source": [
    "ar = np.arange(1,100,2)\n",
    "print(ar)\n",
    "ar = np.linspace(1,100,num=10) #num은 개수\n",
    "print(ar)"
   ]
  },
  {
   "cell_type": "code",
   "execution_count": null,
   "id": "34ec6e63",
   "metadata": {},
   "outputs": [],
   "source": []
  },
  {
   "cell_type": "code",
   "execution_count": 24,
   "id": "13049100",
   "metadata": {},
   "outputs": [
    {
     "name": "stdout",
     "output_type": "stream",
     "text": [
      "[[1. 0. 0.]\n",
      " [0. 1. 0.]\n",
      " [0. 0. 1.]]\n",
      "[[0. 1. 0.]\n",
      " [0. 0. 1.]\n",
      " [0. 0. 0.]]\n",
      "[[0. 0. 0.]\n",
      " [1. 0. 0.]\n",
      " [0. 1. 0.]]\n"
     ]
    }
   ],
   "source": [
    "# eye - 대각선 방향으로 1을 채운 행렬\n",
    "ar = np.eye(3) # 3*3 행렬을 생성하고 대각선 방향으로 1을 채움\n",
    "print(ar)\n",
    "ar = np.eye(3,k=1) # 3*3 행렬을 생성하고 대각선 방향으로 1을 채우는데 기본에서 위로\n",
    "print(ar)\n",
    "ar = np.eye(3,k=-1) # 3*3 행렬을 생성하고 대각선 방향으로 1을 채우고 기본에서 아래로\n",
    "print(ar)"
   ]
  },
  {
   "cell_type": "code",
   "execution_count": 28,
   "id": "163afe40",
   "metadata": {},
   "outputs": [
    {
     "name": "stdout",
     "output_type": "stream",
     "text": [
      "[[1 2 3]\n",
      " [4 5 6]\n",
      " [7 8 9]]\n",
      "[1 5 9]\n",
      "[4 8]\n"
     ]
    }
   ],
   "source": [
    "ar = np.array([[1,2,3],[4,5,6],[7,8,9]])\n",
    "print(ar)\n",
    "br = np.diag(ar) # 대각선 방향이므로 1,5,9\n",
    "print(br)\n",
    "cr = np.diag(ar,k=-1) # 기본 대각선에서 하나 아래로 내려가므로 4,8\n",
    "print(cr)"
   ]
  },
  {
   "cell_type": "code",
   "execution_count": null,
   "id": "5fc534a4",
   "metadata": {},
   "outputs": [],
   "source": []
  },
  {
   "cell_type": "code",
   "execution_count": 53,
   "id": "17ea28b3",
   "metadata": {},
   "outputs": [
    {
     "name": "stdout",
     "output_type": "stream",
     "text": [
      "['1' '2' '3']\n",
      "[1 2 3]\n",
      "['1' '2' '3']\n",
      "[1 2 3]\n"
     ]
    }
   ],
   "source": [
    "import numpy as np\n",
    "ar = np.array([1,2,'3']) # 문자열로 배열이 생성\n",
    "print(ar)\n",
    "#자료형을 지정해서 생성\n",
    "ar = np.array([1,2,'3'], dtype=np.int32) #정수로 배열이 생성 - 자료형 지정\n",
    "print(ar)\n",
    "\n",
    "ar = np.array([1,2,'3']) # 문자열로 배열이 생성\n",
    "print(ar)\n",
    "\n",
    "br = ar.astype(np.int32) # 기존 배열의 자료형을 변경해서 생성\n",
    "print(br)"
   ]
  },
  {
   "cell_type": "code",
   "execution_count": null,
   "id": "0344f7f7",
   "metadata": {},
   "outputs": [],
   "source": []
  },
  {
   "cell_type": "code",
   "execution_count": 45,
   "id": "beb531df",
   "metadata": {},
   "outputs": [
    {
     "name": "stdout",
     "output_type": "stream",
     "text": [
      "[1 2 3 4 5 6 7 8 9]\n",
      "[[  1   2   3]\n",
      " [  4   5 101]\n",
      " [  7   8   9]]\n",
      "[  1   2   3   4   5 101   7   8   9]\n",
      "[[  1   2   3]\n",
      " [  4   5 101]\n",
      " [  7   8   9]]\n"
     ]
    }
   ],
   "source": [
    "import numpy as np\n",
    "matrix = np.array([[1,2,3],[4,5,6],[7,8,9]])\n",
    "ar = matrix.reshape(-1) # 1차원으로 변환 : 접근 방법을 변환한 것이라서 이전과 동일한 데이터\n",
    "\n",
    "print(ar)\n",
    "ar[5]=101\n",
    "print(matrix)\n",
    "\n",
    "br = matrix.flatten() # 복제를 해서 1차원으로 변경 - 원본과 다른 데이터\n",
    "print(br)\n",
    "br[0] = 201\n",
    "print(matrix) # 201로 안바뀜"
   ]
  },
  {
   "cell_type": "code",
   "execution_count": 66,
   "id": "2a0ea91d",
   "metadata": {},
   "outputs": [
    {
     "name": "stdout",
     "output_type": "stream",
     "text": [
      "[[1 2 3]\n",
      " [4 5 6]\n",
      " [7 8 9]]\n",
      "2\n",
      "[1 2 3]\n",
      "[1 4 7]\n",
      "[[1 2 3]\n",
      " [4 5 6]]\n",
      "1\n",
      "1\n",
      "1004\n",
      "1\n"
     ]
    }
   ],
   "source": [
    "matrix = np.array([[1,2,3],[4,5,6],[7,8,9]])\n",
    "print(matrix) # 전체 출력\n",
    "print(matrix[0][1]) #0번째 행에 1번째 열\n",
    "print(matrix[0]) #0번째 행을 선택할 때는 열 인덱스를 제외\n",
    "print(matrix[:,0]) #0번째 열을 선택할 때는 행의 전체라고 설정을 해야 함\n",
    "# 행렬 구조가 있을 때 행을 먼저 선택하고 열을 선택하기 때문에 행은 생략할 수 없음\n",
    "print(matrix[0:2]) #0번째 행부터 2번째 행 앞 까지\n",
    "# 일반 인덱싱은 참조를 복사\n",
    "x = matrix[0][0]\n",
    "print(x)\n",
    "print(matrix[0][0])\n",
    "# 현재는 둘 다 1\n",
    "\n",
    "x = 1004\n",
    "print(x)\n",
    "print(matrix[0][0]) # [행번호][열번호] 이렇게 접근하는 경우는 슬라이싱이라고 하고\n",
    "# [행번호, 열번호] 이렇게 접근하는 것이 인덱싱\n",
    "# 슬라이싱은 복제를 함\n",
    "# 인덱싱은 참조를 복사\n",
    "\n"
   ]
  },
  {
   "cell_type": "code",
   "execution_count": 73,
   "id": "3433d690",
   "metadata": {},
   "outputs": [
    {
     "name": "stdout",
     "output_type": "stream",
     "text": [
      "[[1 2 3]\n",
      " [4 5 6]\n",
      " [7 8 9]]\n",
      "[1 2 3]\n",
      "[1 2 3]\n",
      "[100   2   3]\n",
      "[100   2   3]\n",
      "[[100   2   3]\n",
      " [  4   5   6]\n",
      " [  7   8   9]]\n",
      "[[100   2   3]]\n",
      "[100   2   3]\n",
      "[[1004    2    3]]\n",
      "[100   2   3]\n",
      "[[100   2   3]\n",
      " [  4   5   6]\n",
      " [  7   8   9]]\n"
     ]
    }
   ],
   "source": [
    "matrix = np.array([[1,2,3],[4,5,6],[7,8,9]])\n",
    "print(matrix)\n",
    "\n",
    "# 0번 행을 인덱싱 - 참조를 복사\n",
    "ar = matrix[0]\n",
    "br = matrix[0,]\n",
    "print(ar) # [1,2,3]\n",
    "print(br)\n",
    "\n",
    "# ar의 0번째 요소를 100으로 수정\n",
    "ar[0]=100\n",
    "print(ar) #[100,2,3]\n",
    "print(br) #[100,2,3]\n",
    "print(matrix) #[100,2,3]\n",
    "\n",
    "# list를 이용하는 인덱싱을 팬시 인덱싱이라고 함\n",
    "cr = matrix[[0]]\n",
    "# 범위를 이용하는 형태를 슬라이싱이라고 함\n",
    "dr = matrix[0][:]\n",
    "# 팬시 인덱싱과 슬라이싱은 복제를 함\n",
    "# 복제된 데이터를 수정해도 원본에 영향을 주지 않음\n",
    "print(cr)\n",
    "print(dr)\n",
    "cr[0,0] = 1004\n",
    "print(cr) # [[1004,2,3]]\n",
    "print(dr) # [100,2,3]\n",
    "print(matrix) # [[100,2,30],[4,5,6],[7,8,9]]\n"
   ]
  },
  {
   "cell_type": "code",
   "execution_count": 77,
   "id": "401527bf",
   "metadata": {},
   "outputs": [
    {
     "name": "stdout",
     "output_type": "stream",
     "text": [
      "[1 2 3 4 6]\n"
     ]
    }
   ],
   "source": [
    "ar = np.array([10,2,30,5,22,37])\n",
    "br = np.array([1,2,3,4,5,6])\n",
    "\n",
    "print(br[(ar >= 30) | (ar <= 10)])\n",
    "# print(br[(ar >= 30) or (ar <= 10)]) -> 오류"
   ]
  },
  {
   "cell_type": "code",
   "execution_count": null,
   "id": "4b58c4fe",
   "metadata": {},
   "outputs": [],
   "source": []
  },
  {
   "cell_type": "code",
   "execution_count": null,
   "id": "982ba34b",
   "metadata": {},
   "outputs": [],
   "source": []
  },
  {
   "cell_type": "code",
   "execution_count": null,
   "id": "fa3a68b2",
   "metadata": {},
   "outputs": [],
   "source": []
  },
  {
   "cell_type": "code",
   "execution_count": null,
   "id": "a62ed839",
   "metadata": {},
   "outputs": [],
   "source": []
  },
  {
   "cell_type": "code",
   "execution_count": null,
   "id": "b092f2a9",
   "metadata": {},
   "outputs": [],
   "source": []
  },
  {
   "cell_type": "code",
   "execution_count": null,
   "id": "04c2829d",
   "metadata": {},
   "outputs": [],
   "source": []
  }
 ],
 "metadata": {
  "kernelspec": {
   "display_name": "Python 3 (ipykernel)",
   "language": "python",
   "name": "python3"
  },
  "language_info": {
   "codemirror_mode": {
    "name": "ipython",
    "version": 3
   },
   "file_extension": ".py",
   "mimetype": "text/x-python",
   "name": "python",
   "nbconvert_exporter": "python",
   "pygments_lexer": "ipython3",
   "version": "3.10.9"
  }
 },
 "nbformat": 4,
 "nbformat_minor": 5
}
